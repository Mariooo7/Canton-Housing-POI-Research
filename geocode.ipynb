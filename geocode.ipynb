{
 "cells": [
  {
   "cell_type": "code",
   "id": "initial_id",
   "metadata": {
    "collapsed": true,
    "ExecuteTime": {
     "end_time": "2024-12-14T10:41:56.327020Z",
     "start_time": "2024-12-14T10:41:55.655340Z"
    }
   },
   "source": [
    "import pandas as pd\n",
    "import requests"
   ],
   "outputs": [],
   "execution_count": 1
  },
  {
   "metadata": {
    "ExecuteTime": {
     "end_time": "2024-12-14T10:41:57.382647Z",
     "start_time": "2024-12-14T10:41:57.348652Z"
    }
   },
   "cell_type": "code",
   "source": [
    "community = pd.read_csv('clean_data/house_data.csv')\n",
    "community.head()"
   ],
   "id": "8b882d574d817244",
   "outputs": [
    {
     "data": {
      "text/plain": [
       "     小区名字            小区地址     均价   容积率  有无停车位  物业费_元/平方米/月  绿化率_percent\n",
       "0    骏景花园  天河-棠下-中山大道190号  49967  2.17      1         2.80         40.0\n",
       "1  美林海岸花园    天河-员村-棕林街61号  77082  2.44      1         1.20         33.4\n",
       "2    盈彩美居       天河-东圃-盈溪路  54560  2.88      1         1.20         30.0\n",
       "3    兰亭盛荟     天河-东圃-东圃明镜路  70093  3.80      1         3.50         62.0\n",
       "4  中海康城花园     天河-黄村-广园快速路  45544  1.74      1         2.37         40.0"
      ],
      "text/html": [
       "<div>\n",
       "<style scoped>\n",
       "    .dataframe tbody tr th:only-of-type {\n",
       "        vertical-align: middle;\n",
       "    }\n",
       "\n",
       "    .dataframe tbody tr th {\n",
       "        vertical-align: top;\n",
       "    }\n",
       "\n",
       "    .dataframe thead th {\n",
       "        text-align: right;\n",
       "    }\n",
       "</style>\n",
       "<table border=\"1\" class=\"dataframe\">\n",
       "  <thead>\n",
       "    <tr style=\"text-align: right;\">\n",
       "      <th></th>\n",
       "      <th>小区名字</th>\n",
       "      <th>小区地址</th>\n",
       "      <th>均价</th>\n",
       "      <th>容积率</th>\n",
       "      <th>有无停车位</th>\n",
       "      <th>物业费_元/平方米/月</th>\n",
       "      <th>绿化率_percent</th>\n",
       "    </tr>\n",
       "  </thead>\n",
       "  <tbody>\n",
       "    <tr>\n",
       "      <th>0</th>\n",
       "      <td>骏景花园</td>\n",
       "      <td>天河-棠下-中山大道190号</td>\n",
       "      <td>49967</td>\n",
       "      <td>2.17</td>\n",
       "      <td>1</td>\n",
       "      <td>2.80</td>\n",
       "      <td>40.0</td>\n",
       "    </tr>\n",
       "    <tr>\n",
       "      <th>1</th>\n",
       "      <td>美林海岸花园</td>\n",
       "      <td>天河-员村-棕林街61号</td>\n",
       "      <td>77082</td>\n",
       "      <td>2.44</td>\n",
       "      <td>1</td>\n",
       "      <td>1.20</td>\n",
       "      <td>33.4</td>\n",
       "    </tr>\n",
       "    <tr>\n",
       "      <th>2</th>\n",
       "      <td>盈彩美居</td>\n",
       "      <td>天河-东圃-盈溪路</td>\n",
       "      <td>54560</td>\n",
       "      <td>2.88</td>\n",
       "      <td>1</td>\n",
       "      <td>1.20</td>\n",
       "      <td>30.0</td>\n",
       "    </tr>\n",
       "    <tr>\n",
       "      <th>3</th>\n",
       "      <td>兰亭盛荟</td>\n",
       "      <td>天河-东圃-东圃明镜路</td>\n",
       "      <td>70093</td>\n",
       "      <td>3.80</td>\n",
       "      <td>1</td>\n",
       "      <td>3.50</td>\n",
       "      <td>62.0</td>\n",
       "    </tr>\n",
       "    <tr>\n",
       "      <th>4</th>\n",
       "      <td>中海康城花园</td>\n",
       "      <td>天河-黄村-广园快速路</td>\n",
       "      <td>45544</td>\n",
       "      <td>1.74</td>\n",
       "      <td>1</td>\n",
       "      <td>2.37</td>\n",
       "      <td>40.0</td>\n",
       "    </tr>\n",
       "  </tbody>\n",
       "</table>\n",
       "</div>"
      ]
     },
     "execution_count": 2,
     "metadata": {},
     "output_type": "execute_result"
    }
   ],
   "execution_count": 2
  },
  {
   "metadata": {
    "ExecuteTime": {
     "end_time": "2024-12-14T10:42:13.097881Z",
     "start_time": "2024-12-14T10:42:13.088779Z"
    }
   },
   "cell_type": "code",
   "source": [
    "# Baidu地图API的URL和AK\n",
    "url = \"https://api.map.baidu.com/geocoding/v3\"\n",
    "ak = 'ExRXnYlmwF71mD6Huayc4GOPS0aNqzqY'"
   ],
   "id": "b95c6ccc89525472",
   "outputs": [],
   "execution_count": 3
  },
  {
   "metadata": {
    "ExecuteTime": {
     "end_time": "2024-12-14T10:42:14.898853Z",
     "start_time": "2024-12-14T10:42:14.887269Z"
    }
   },
   "cell_type": "code",
   "source": [
    "# 定义一个函数通过地址获取经纬度\n",
    "def get_geocode(address, ak):\n",
    "    params = {\n",
    "        \"address\": address,\n",
    "        \"output\": \"json\",\n",
    "        \"ak\": ak\n",
    "    }\n",
    "    response = requests.get(url, params=params)\n",
    "    if response.status_code == 200:\n",
    "        result = response.json()\n",
    "        if result['status'] == 0:\n",
    "            lat = result['result']['location']['lat']\n",
    "            lng = result['result']['location']['lng']\n",
    "            return lat, lng\n",
    "    return None, None"
   ],
   "id": "b0dfe7b05ca3b39f",
   "outputs": [],
   "execution_count": 4
  },
  {
   "metadata": {
    "ExecuteTime": {
     "end_time": "2024-12-14T10:42:16.914469Z",
     "start_time": "2024-12-14T10:42:16.900726Z"
    }
   },
   "cell_type": "code",
   "source": [
    "community['latitude'] = None\n",
    "community['longitude'] = None"
   ],
   "id": "23dc6ccf771d5fc9",
   "outputs": [],
   "execution_count": 5
  },
  {
   "metadata": {
    "ExecuteTime": {
     "end_time": "2024-12-14T10:45:55.796149Z",
     "start_time": "2024-12-14T10:42:21.816428Z"
    }
   },
   "cell_type": "code",
   "source": [
    "# 对每个小区地址调用API并存储结果\n",
    "# .at 方法用于频繁的单值操作\n",
    "for index in community.index:\n",
    "    lat, lng = get_geocode(community.loc[index]['小区地址'], ak)\n",
    "    community.at[index, 'latitude'] = lat\n",
    "    community.at[index, 'longitude'] = lng"
   ],
   "id": "1f1232d5c580cd11",
   "outputs": [],
   "execution_count": 6
  },
  {
   "metadata": {
    "ExecuteTime": {
     "end_time": "2024-12-14T11:02:20.674260Z",
     "start_time": "2024-12-14T11:02:20.662748Z"
    }
   },
   "cell_type": "code",
   "source": "community.info()",
   "id": "3b0bf8b729d44b84",
   "outputs": [
    {
     "name": "stdout",
     "output_type": "stream",
     "text": [
      "<class 'pandas.core.frame.DataFrame'>\n",
      "RangeIndex: 3081 entries, 0 to 3080\n",
      "Data columns (total 9 columns):\n",
      " #   Column       Non-Null Count  Dtype  \n",
      "---  ------       --------------  -----  \n",
      " 0   小区名字         3081 non-null   object \n",
      " 1   小区地址         3081 non-null   object \n",
      " 2   均价           3081 non-null   int64  \n",
      " 3   容积率          3081 non-null   float64\n",
      " 4   有无停车位        3081 non-null   int64  \n",
      " 5   物业费_元/平方米/月  3081 non-null   float64\n",
      " 6   绿化率_percent  3081 non-null   float64\n",
      " 7   latitude     2843 non-null   object \n",
      " 8   longitude    2843 non-null   object \n",
      "dtypes: float64(3), int64(2), object(4)\n",
      "memory usage: 216.8+ KB\n"
     ]
    }
   ],
   "execution_count": 7
  },
  {
   "metadata": {
    "ExecuteTime": {
     "end_time": "2024-12-14T11:02:20.891346Z",
     "start_time": "2024-12-14T11:02:20.885834Z"
    }
   },
   "cell_type": "code",
   "source": "community_with_coords = community.dropna(axis=0)",
   "id": "a3f223e8a5861f80",
   "outputs": [],
   "execution_count": 8
  },
  {
   "metadata": {
    "ExecuteTime": {
     "end_time": "2024-12-14T11:02:20.997884Z",
     "start_time": "2024-12-14T11:02:20.975490Z"
    }
   },
   "cell_type": "code",
   "source": "community_with_coords.info()",
   "id": "9e4f2906b96d3306",
   "outputs": [
    {
     "name": "stdout",
     "output_type": "stream",
     "text": [
      "<class 'pandas.core.frame.DataFrame'>\n",
      "Index: 2843 entries, 0 to 3080\n",
      "Data columns (total 9 columns):\n",
      " #   Column       Non-Null Count  Dtype  \n",
      "---  ------       --------------  -----  \n",
      " 0   小区名字         2843 non-null   object \n",
      " 1   小区地址         2843 non-null   object \n",
      " 2   均价           2843 non-null   int64  \n",
      " 3   容积率          2843 non-null   float64\n",
      " 4   有无停车位        2843 non-null   int64  \n",
      " 5   物业费_元/平方米/月  2843 non-null   float64\n",
      " 6   绿化率_percent  2843 non-null   float64\n",
      " 7   latitude     2843 non-null   object \n",
      " 8   longitude    2843 non-null   object \n",
      "dtypes: float64(3), int64(2), object(4)\n",
      "memory usage: 222.1+ KB\n"
     ]
    }
   ],
   "execution_count": 9
  },
  {
   "metadata": {},
   "cell_type": "code",
   "outputs": [],
   "execution_count": null,
   "source": [
    "# 读取广州市中心城区的shp文件 用于剔除不在中心城区的错误定位\n",
    "center_city_data = gpd.read_file('guangzhou_center_city.shp')\n",
    "# 根据经纬度坐标创建Point几何对象列\n",
    "community_gdf = gpd.GeoDataFrame(communities, geometry=gpd.points_from_xy(communities.longitude, communities.latitude))\n",
    "# 使用空间连接（spatial join）来筛选出在中心城区内的小区，同样用'within'表示在范围内\n",
    "filtered_residential_gdf = gpd.sjoin(community_gdf, center_city_data, how='inner', op='within')"
   ],
   "id": "69870786ab6b7af9"
  },
  {
   "metadata": {
    "ExecuteTime": {
     "end_time": "2024-12-14T11:02:21.166724Z",
     "start_time": "2024-12-14T11:02:21.138614Z"
    }
   },
   "cell_type": "code",
   "source": "community_with_coords.to_csv('communities_with_coords.csv', index=False)",
   "id": "7fa0a4361e822cc3",
   "outputs": [],
   "execution_count": 11
  }
 ],
 "metadata": {
  "kernelspec": {
   "display_name": "Python 3",
   "language": "python",
   "name": "python3"
  },
  "language_info": {
   "codemirror_mode": {
    "name": "ipython",
    "version": 2
   },
   "file_extension": ".py",
   "mimetype": "text/x-python",
   "name": "python",
   "nbconvert_exporter": "python",
   "pygments_lexer": "ipython2",
   "version": "2.7.6"
  }
 },
 "nbformat": 4,
 "nbformat_minor": 5
}
