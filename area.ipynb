{
 "cells": [
  {
   "cell_type": "code",
   "id": "initial_id",
   "metadata": {
    "collapsed": true,
    "ExecuteTime": {
     "end_time": "2024-12-14T11:58:53.498024Z",
     "start_time": "2024-12-14T11:58:52.949903Z"
    }
   },
   "source": [
    "import geopandas as gpd\n",
    "import pandas as pd"
   ],
   "outputs": [],
   "execution_count": 1
  },
  {
   "metadata": {
    "ExecuteTime": {
     "end_time": "2024-12-14T11:58:53.543101Z",
     "start_time": "2024-12-14T11:58:53.502537Z"
    }
   },
   "cell_type": "code",
   "source": [
    "# 读取小区数据\n",
    "communities = pd.read_csv('communities_with_distance_river.csv')\n",
    "# 创建小区GeoDataFrame\n",
    "community_gdf = gpd.GeoDataFrame(communities, geometry=gpd.points_from_xy(communities.longitude, communities.latitude), crs = 'EPSG:4490')"
   ],
   "id": "c9837ed454db66e2",
   "outputs": [],
   "execution_count": 2
  },
  {
   "metadata": {
    "ExecuteTime": {
     "end_time": "2024-12-14T11:58:53.664932Z",
     "start_time": "2024-12-14T11:58:53.637924Z"
    }
   },
   "cell_type": "code",
   "source": "community_gdf.head()",
   "id": "6cce93fa17cba480",
   "outputs": [
    {
     "data": {
      "text/plain": [
       "     小区名字               小区地址     均价   容积率  有无停车位  物业费_元/平方米/月  绿化率_percent  \\\n",
       "0    盈彩美居          天河-东圃-盈溪路  54560  2.88      1         1.20         30.0   \n",
       "1    兰亭盛荟        天河-东圃-东圃明镜路  70093  3.80      1         3.50         62.0   \n",
       "2  中海康城花园        天河-黄村-广园快速路  45544  1.74      1         2.37         40.0   \n",
       "3     宝翠园        天河-龙洞-宝翠路4号  58641  2.66      1         1.90         45.2   \n",
       "4   东方新世界  天河-天河公园-中山大道西158号  84828  3.99      1         2.30         42.0   \n",
       "\n",
       "    latitude   longitude         BUS          HOS         MAR          SUB  \\\n",
       "0  23.124325  113.415697  256.509826  1535.484711  175.643977  1196.714612   \n",
       "1  23.124325  113.415697  256.509826  1535.484711  175.643977  1196.714612   \n",
       "2  23.132456  113.419568  152.513554  2100.395942  451.259944  1207.328398   \n",
       "3  23.196825  113.369955   23.832257  5297.997351  346.016106   713.996616   \n",
       "4  23.139163  113.366326  219.307358   265.723923  300.167413  1482.307992   \n",
       "\n",
       "          PSC          MSC          PAR          CBD         SCBD  \\\n",
       "0  417.639070   856.055562   161.120353  9319.496930  7467.040911   \n",
       "1  417.639070   856.055562   161.120353  9319.496930  7467.040911   \n",
       "2  388.567987   383.483784   703.540475  9796.623781  8166.680740   \n",
       "3  423.282983   382.525096   362.763426  9674.438398  9123.633151   \n",
       "4  433.038452  1132.855629  1241.665762  4742.191821  4540.610699   \n",
       "\n",
       "           RIV                    geometry  \n",
       "0  2068.596693  POINT (113.41570 23.12433)  \n",
       "1  2068.596693  POINT (113.41570 23.12433)  \n",
       "2  3059.158674  POINT (113.41957 23.13246)  \n",
       "3  9463.923434  POINT (113.36996 23.19682)  \n",
       "4  3082.062562  POINT (113.36633 23.13916)  "
      ],
      "text/html": [
       "<div>\n",
       "<style scoped>\n",
       "    .dataframe tbody tr th:only-of-type {\n",
       "        vertical-align: middle;\n",
       "    }\n",
       "\n",
       "    .dataframe tbody tr th {\n",
       "        vertical-align: top;\n",
       "    }\n",
       "\n",
       "    .dataframe thead th {\n",
       "        text-align: right;\n",
       "    }\n",
       "</style>\n",
       "<table border=\"1\" class=\"dataframe\">\n",
       "  <thead>\n",
       "    <tr style=\"text-align: right;\">\n",
       "      <th></th>\n",
       "      <th>小区名字</th>\n",
       "      <th>小区地址</th>\n",
       "      <th>均价</th>\n",
       "      <th>容积率</th>\n",
       "      <th>有无停车位</th>\n",
       "      <th>物业费_元/平方米/月</th>\n",
       "      <th>绿化率_percent</th>\n",
       "      <th>latitude</th>\n",
       "      <th>longitude</th>\n",
       "      <th>BUS</th>\n",
       "      <th>HOS</th>\n",
       "      <th>MAR</th>\n",
       "      <th>SUB</th>\n",
       "      <th>PSC</th>\n",
       "      <th>MSC</th>\n",
       "      <th>PAR</th>\n",
       "      <th>CBD</th>\n",
       "      <th>SCBD</th>\n",
       "      <th>RIV</th>\n",
       "      <th>geometry</th>\n",
       "    </tr>\n",
       "  </thead>\n",
       "  <tbody>\n",
       "    <tr>\n",
       "      <th>0</th>\n",
       "      <td>盈彩美居</td>\n",
       "      <td>天河-东圃-盈溪路</td>\n",
       "      <td>54560</td>\n",
       "      <td>2.88</td>\n",
       "      <td>1</td>\n",
       "      <td>1.20</td>\n",
       "      <td>30.0</td>\n",
       "      <td>23.124325</td>\n",
       "      <td>113.415697</td>\n",
       "      <td>256.509826</td>\n",
       "      <td>1535.484711</td>\n",
       "      <td>175.643977</td>\n",
       "      <td>1196.714612</td>\n",
       "      <td>417.639070</td>\n",
       "      <td>856.055562</td>\n",
       "      <td>161.120353</td>\n",
       "      <td>9319.496930</td>\n",
       "      <td>7467.040911</td>\n",
       "      <td>2068.596693</td>\n",
       "      <td>POINT (113.41570 23.12433)</td>\n",
       "    </tr>\n",
       "    <tr>\n",
       "      <th>1</th>\n",
       "      <td>兰亭盛荟</td>\n",
       "      <td>天河-东圃-东圃明镜路</td>\n",
       "      <td>70093</td>\n",
       "      <td>3.80</td>\n",
       "      <td>1</td>\n",
       "      <td>3.50</td>\n",
       "      <td>62.0</td>\n",
       "      <td>23.124325</td>\n",
       "      <td>113.415697</td>\n",
       "      <td>256.509826</td>\n",
       "      <td>1535.484711</td>\n",
       "      <td>175.643977</td>\n",
       "      <td>1196.714612</td>\n",
       "      <td>417.639070</td>\n",
       "      <td>856.055562</td>\n",
       "      <td>161.120353</td>\n",
       "      <td>9319.496930</td>\n",
       "      <td>7467.040911</td>\n",
       "      <td>2068.596693</td>\n",
       "      <td>POINT (113.41570 23.12433)</td>\n",
       "    </tr>\n",
       "    <tr>\n",
       "      <th>2</th>\n",
       "      <td>中海康城花园</td>\n",
       "      <td>天河-黄村-广园快速路</td>\n",
       "      <td>45544</td>\n",
       "      <td>1.74</td>\n",
       "      <td>1</td>\n",
       "      <td>2.37</td>\n",
       "      <td>40.0</td>\n",
       "      <td>23.132456</td>\n",
       "      <td>113.419568</td>\n",
       "      <td>152.513554</td>\n",
       "      <td>2100.395942</td>\n",
       "      <td>451.259944</td>\n",
       "      <td>1207.328398</td>\n",
       "      <td>388.567987</td>\n",
       "      <td>383.483784</td>\n",
       "      <td>703.540475</td>\n",
       "      <td>9796.623781</td>\n",
       "      <td>8166.680740</td>\n",
       "      <td>3059.158674</td>\n",
       "      <td>POINT (113.41957 23.13246)</td>\n",
       "    </tr>\n",
       "    <tr>\n",
       "      <th>3</th>\n",
       "      <td>宝翠园</td>\n",
       "      <td>天河-龙洞-宝翠路4号</td>\n",
       "      <td>58641</td>\n",
       "      <td>2.66</td>\n",
       "      <td>1</td>\n",
       "      <td>1.90</td>\n",
       "      <td>45.2</td>\n",
       "      <td>23.196825</td>\n",
       "      <td>113.369955</td>\n",
       "      <td>23.832257</td>\n",
       "      <td>5297.997351</td>\n",
       "      <td>346.016106</td>\n",
       "      <td>713.996616</td>\n",
       "      <td>423.282983</td>\n",
       "      <td>382.525096</td>\n",
       "      <td>362.763426</td>\n",
       "      <td>9674.438398</td>\n",
       "      <td>9123.633151</td>\n",
       "      <td>9463.923434</td>\n",
       "      <td>POINT (113.36996 23.19682)</td>\n",
       "    </tr>\n",
       "    <tr>\n",
       "      <th>4</th>\n",
       "      <td>东方新世界</td>\n",
       "      <td>天河-天河公园-中山大道西158号</td>\n",
       "      <td>84828</td>\n",
       "      <td>3.99</td>\n",
       "      <td>1</td>\n",
       "      <td>2.30</td>\n",
       "      <td>42.0</td>\n",
       "      <td>23.139163</td>\n",
       "      <td>113.366326</td>\n",
       "      <td>219.307358</td>\n",
       "      <td>265.723923</td>\n",
       "      <td>300.167413</td>\n",
       "      <td>1482.307992</td>\n",
       "      <td>433.038452</td>\n",
       "      <td>1132.855629</td>\n",
       "      <td>1241.665762</td>\n",
       "      <td>4742.191821</td>\n",
       "      <td>4540.610699</td>\n",
       "      <td>3082.062562</td>\n",
       "      <td>POINT (113.36633 23.13916)</td>\n",
       "    </tr>\n",
       "  </tbody>\n",
       "</table>\n",
       "</div>"
      ]
     },
     "execution_count": 3,
     "metadata": {},
     "output_type": "execute_result"
    }
   ],
   "execution_count": 3
  },
  {
   "metadata": {
    "ExecuteTime": {
     "end_time": "2024-12-14T11:58:53.819048Z",
     "start_time": "2024-12-14T11:58:53.727816Z"
    }
   },
   "cell_type": "code",
   "source": [
    "# 读取购物类poi\n",
    "shopping = pd.read_csv('poi/shopping.csv')\n",
    "# 创建购物类poi的GeoDataFrame\n",
    "shopping_gdf = gpd.GeoDataFrame(shopping, geometry = gpd.points_from_xy(shopping.gcj02_x, shopping.gcj02_y), crs = 'EPSG:4490')"
   ],
   "id": "5a31937a4b39a0db",
   "outputs": [],
   "execution_count": 4
  },
  {
   "metadata": {
    "ExecuteTime": {
     "end_time": "2024-12-14T11:58:53.882232Z",
     "start_time": "2024-12-14T11:58:53.868463Z"
    }
   },
   "cell_type": "code",
   "source": "shopping_gdf.head()",
   "id": "7125c718ca1245d8",
   "outputs": [
    {
     "data": {
      "text/plain": [
       "           id              name     gcj02_x    gcj02_y adname        中类  \\\n",
       "0  B0J23Z29A0         啊莹小李车标便利店  113.254520  23.113277    越秀区  便民商店/便利店   \n",
       "1  B0H6DS77CV  AG便利店(金天成印刷包装城店)  113.251626  23.059602    荔湾区  便民商店/便利店   \n",
       "2  B00141V4YB   华润万家便利超市(北瑜翠园店)  113.364408  23.211069    天河区  便民商店/便利店   \n",
       "3  B0HUY5T81E           乐百惠生活超市  113.365122  23.215073    天河区      超级市场   \n",
       "4  B0JRP1Y4ON        8836乐百惠便利店  113.365217  23.215076    天河区  便民商店/便利店   \n",
       "\n",
       "         小类                    geometry  \n",
       "0  便民商店/便利店  POINT (113.25452 23.11328)  \n",
       "1  便民商店/便利店  POINT (113.25163 23.05960)  \n",
       "2  便民商店/便利店  POINT (113.36441 23.21107)  \n",
       "3        超市  POINT (113.36512 23.21507)  \n",
       "4  便民商店/便利店  POINT (113.36522 23.21508)  "
      ],
      "text/html": [
       "<div>\n",
       "<style scoped>\n",
       "    .dataframe tbody tr th:only-of-type {\n",
       "        vertical-align: middle;\n",
       "    }\n",
       "\n",
       "    .dataframe tbody tr th {\n",
       "        vertical-align: top;\n",
       "    }\n",
       "\n",
       "    .dataframe thead th {\n",
       "        text-align: right;\n",
       "    }\n",
       "</style>\n",
       "<table border=\"1\" class=\"dataframe\">\n",
       "  <thead>\n",
       "    <tr style=\"text-align: right;\">\n",
       "      <th></th>\n",
       "      <th>id</th>\n",
       "      <th>name</th>\n",
       "      <th>gcj02_x</th>\n",
       "      <th>gcj02_y</th>\n",
       "      <th>adname</th>\n",
       "      <th>中类</th>\n",
       "      <th>小类</th>\n",
       "      <th>geometry</th>\n",
       "    </tr>\n",
       "  </thead>\n",
       "  <tbody>\n",
       "    <tr>\n",
       "      <th>0</th>\n",
       "      <td>B0J23Z29A0</td>\n",
       "      <td>啊莹小李车标便利店</td>\n",
       "      <td>113.254520</td>\n",
       "      <td>23.113277</td>\n",
       "      <td>越秀区</td>\n",
       "      <td>便民商店/便利店</td>\n",
       "      <td>便民商店/便利店</td>\n",
       "      <td>POINT (113.25452 23.11328)</td>\n",
       "    </tr>\n",
       "    <tr>\n",
       "      <th>1</th>\n",
       "      <td>B0H6DS77CV</td>\n",
       "      <td>AG便利店(金天成印刷包装城店)</td>\n",
       "      <td>113.251626</td>\n",
       "      <td>23.059602</td>\n",
       "      <td>荔湾区</td>\n",
       "      <td>便民商店/便利店</td>\n",
       "      <td>便民商店/便利店</td>\n",
       "      <td>POINT (113.25163 23.05960)</td>\n",
       "    </tr>\n",
       "    <tr>\n",
       "      <th>2</th>\n",
       "      <td>B00141V4YB</td>\n",
       "      <td>华润万家便利超市(北瑜翠园店)</td>\n",
       "      <td>113.364408</td>\n",
       "      <td>23.211069</td>\n",
       "      <td>天河区</td>\n",
       "      <td>便民商店/便利店</td>\n",
       "      <td>便民商店/便利店</td>\n",
       "      <td>POINT (113.36441 23.21107)</td>\n",
       "    </tr>\n",
       "    <tr>\n",
       "      <th>3</th>\n",
       "      <td>B0HUY5T81E</td>\n",
       "      <td>乐百惠生活超市</td>\n",
       "      <td>113.365122</td>\n",
       "      <td>23.215073</td>\n",
       "      <td>天河区</td>\n",
       "      <td>超级市场</td>\n",
       "      <td>超市</td>\n",
       "      <td>POINT (113.36512 23.21507)</td>\n",
       "    </tr>\n",
       "    <tr>\n",
       "      <th>4</th>\n",
       "      <td>B0JRP1Y4ON</td>\n",
       "      <td>8836乐百惠便利店</td>\n",
       "      <td>113.365217</td>\n",
       "      <td>23.215076</td>\n",
       "      <td>天河区</td>\n",
       "      <td>便民商店/便利店</td>\n",
       "      <td>便民商店/便利店</td>\n",
       "      <td>POINT (113.36522 23.21508)</td>\n",
       "    </tr>\n",
       "  </tbody>\n",
       "</table>\n",
       "</div>"
      ]
     },
     "execution_count": 5,
     "metadata": {},
     "output_type": "execute_result"
    }
   ],
   "execution_count": 5
  },
  {
   "metadata": {
    "ExecuteTime": {
     "end_time": "2024-12-14T11:58:53.960007Z",
     "start_time": "2024-12-14T11:58:53.946208Z"
    }
   },
   "cell_type": "code",
   "source": "shopping_gdf['中类'].unique()",
   "id": "ea77ad1f63f5cfa9",
   "outputs": [
    {
     "data": {
      "text/plain": [
       "array(['便民商店/便利店', '超级市场', '综合市场', '商场', '特色商业街'], dtype=object)"
      ]
     },
     "execution_count": 6,
     "metadata": {},
     "output_type": "execute_result"
    }
   ],
   "execution_count": 6
  },
  {
   "metadata": {
    "ExecuteTime": {
     "end_time": "2024-12-14T11:58:54.022784Z",
     "start_time": "2024-12-14T11:58:54.008130Z"
    }
   },
   "cell_type": "code",
   "source": [
    "# 定义不同类别的商业业态面积（假设面积单位为平方米）\n",
    "area_by_type = { '商场': 15000,\n",
    "                 '特色商业街': 5000,\n",
    "                 '超级市场': 3000,\n",
    "                '综合市场': 2000,\n",
    "                '便民商店/便利店': 100\n",
    "                 }"
   ],
   "id": "608d0da9b4adac95",
   "outputs": [],
   "execution_count": 7
  },
  {
   "metadata": {
    "ExecuteTime": {
     "end_time": "2024-12-14T11:59:02.078847Z",
     "start_time": "2024-12-14T11:58:54.062221Z"
    }
   },
   "cell_type": "code",
   "source": [
    "# 遍历每个小区，计算800米缓冲区内的总商业面积\n",
    "total_commercial_area_within_800m = []\n",
    "for community in community_gdf.itertuples():\n",
    "    buffer = community.geometry.buffer(800 / 111320) # 111.32公里大约等于1度\n",
    "    poi_within_buffer = shopping_gdf[shopping_gdf.geometry.within(buffer)]\n",
    "    total_area = 0\n",
    "    for poi in poi_within_buffer.itertuples():\n",
    "        total_area += area_by_type.get(poi.中类, 0)\n",
    "    total_commercial_area_within_800m.append(total_area)\n",
    "communities['ARE'] = total_commercial_area_within_800m"
   ],
   "id": "47f914600f9648dc",
   "outputs": [],
   "execution_count": 8
  },
  {
   "metadata": {
    "ExecuteTime": {
     "end_time": "2024-12-14T11:59:02.125140Z",
     "start_time": "2024-12-14T11:59:02.112500Z"
    }
   },
   "cell_type": "code",
   "source": "communities['ARE'].describe()",
   "id": "18dc8525022081ab",
   "outputs": [
    {
     "data": {
      "text/plain": [
       "count      2282.000000\n",
       "mean     282679.316389\n",
       "std      149399.526299\n",
       "min           0.000000\n",
       "25%      186550.000000\n",
       "50%      256000.000000\n",
       "75%      378900.000000\n",
       "max      824700.000000\n",
       "Name: ARE, dtype: float64"
      ]
     },
     "execution_count": 9,
     "metadata": {},
     "output_type": "execute_result"
    }
   ],
   "execution_count": 9
  },
  {
   "metadata": {
    "ExecuteTime": {
     "end_time": "2024-12-14T11:59:02.265522Z",
     "start_time": "2024-12-14T11:59:02.204882Z"
    }
   },
   "cell_type": "code",
   "source": [
    "# 新变量写入数据集\n",
    "communities.to_csv('communities_with_distance_river_area.csv', index=False)"
   ],
   "id": "7395f903e68972fa",
   "outputs": [],
   "execution_count": 10
  }
 ],
 "metadata": {
  "kernelspec": {
   "display_name": "Python 3",
   "language": "python",
   "name": "python3"
  },
  "language_info": {
   "codemirror_mode": {
    "name": "ipython",
    "version": 2
   },
   "file_extension": ".py",
   "mimetype": "text/x-python",
   "name": "python",
   "nbconvert_exporter": "python",
   "pygments_lexer": "ipython2",
   "version": "2.7.6"
  }
 },
 "nbformat": 4,
 "nbformat_minor": 5
}
