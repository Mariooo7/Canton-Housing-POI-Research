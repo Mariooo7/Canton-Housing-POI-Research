{
 "cells": [
  {
   "cell_type": "code",
   "id": "4ff31c8490a39b32",
   "metadata": {
    "ExecuteTime": {
     "end_time": "2024-12-14T16:20:59.249034Z",
     "start_time": "2024-12-14T16:20:58.334687Z"
    }
   },
   "source": [
    "import geopandas as gpd\n",
    "import pandas as pd"
   ],
   "outputs": [],
   "execution_count": 1
  },
  {
   "metadata": {
    "ExecuteTime": {
     "end_time": "2024-12-14T16:21:57.265723Z",
     "start_time": "2024-12-14T16:21:57.234873Z"
    }
   },
   "cell_type": "code",
   "source": "data = pd.read_csv('data.csv')",
   "id": "9fc5011b5344a590",
   "outputs": [],
   "execution_count": 2
  },
  {
   "metadata": {
    "ExecuteTime": {
     "end_time": "2024-12-14T16:37:34.314025Z",
     "start_time": "2024-12-14T16:37:34.268207Z"
    }
   },
   "cell_type": "code",
   "source": [
    "# 读取广州市中心城区的shp文件 用于剔除不在中心城区的错误定位\n",
    "center_city_data = gpd.read_file('describe/广州市/central_canton.shp')"
   ],
   "id": "ac38191cc9410ca1",
   "outputs": [],
   "execution_count": 22
  },
  {
   "metadata": {
    "ExecuteTime": {
     "end_time": "2024-12-14T16:42:27.221599Z",
     "start_time": "2024-12-14T16:42:27.195674Z"
    }
   },
   "cell_type": "code",
   "source": [
    "# 根据经纬度坐标创建Point几何对象列\n",
    "community_gdf = gpd.GeoDataFrame(data, geometry=gpd.points_from_xy(data.longitude, data.latitude))\n",
    "# 使用空间连接（spatial join）来筛选出在中心城区内的小区，同样用'within'表示在范围内\n",
    "filtered_community_gdf = gpd.sjoin(community_gdf, center_city_data, how='inner', predicate='within')"
   ],
   "id": "65df88d639b56f1",
   "outputs": [
    {
     "name": "stderr",
     "output_type": "stream",
     "text": [
      "C:\\Users\\Mariooo\\AppData\\Local\\Temp\\ipykernel_33280\\3127252381.py:4: UserWarning: CRS mismatch between the CRS of left geometries and the CRS of right geometries.\n",
      "Use `to_crs()` to reproject one of the input geometries to match the CRS of the other.\n",
      "\n",
      "Left CRS: None\n",
      "Right CRS: EPSG:4326\n",
      "\n",
      "  filtered_residential_gdf = gpd.sjoin(community_gdf, center_city_data, how='inner', predicate='within')\n"
     ]
    }
   ],
   "execution_count": 34
  },
  {
   "metadata": {
    "ExecuteTime": {
     "end_time": "2024-12-14T16:40:36.708643Z",
     "start_time": "2024-12-14T16:40:36.686125Z"
    }
   },
   "cell_type": "code",
   "source": "filtered_community_gdf.info()",
   "id": "e28cf9d4e3091211",
   "outputs": [
    {
     "name": "stdout",
     "output_type": "stream",
     "text": [
      "<class 'geopandas.geodataframe.GeoDataFrame'>\n",
      "Index: 2275 entries, 0 to 2278\n",
      "Data columns (total 28 columns):\n",
      " #   Column       Non-Null Count  Dtype   \n",
      "---  ------       --------------  -----   \n",
      " 0   PRI          2275 non-null   int64   \n",
      " 1   FAR          2275 non-null   float64 \n",
      " 2   PRO          2275 non-null   float64 \n",
      " 3   GRE          2275 non-null   float64 \n",
      " 4   BUS          2275 non-null   float64 \n",
      " 5   HOS          2275 non-null   float64 \n",
      " 6   MAR          2275 non-null   float64 \n",
      " 7   SUB          2275 non-null   float64 \n",
      " 8   PSC          2275 non-null   float64 \n",
      " 9   MSC          2275 non-null   float64 \n",
      " 10  PAR          2275 non-null   float64 \n",
      " 11  CBD          2275 non-null   float64 \n",
      " 12  SCBD         2275 non-null   float64 \n",
      " 13  RIV          2275 non-null   float64 \n",
      " 14  ARE          2275 non-null   int64   \n",
      " 15  latitude     2275 non-null   float64 \n",
      " 16  longitude    2275 non-null   float64 \n",
      " 17  geometry     2275 non-null   geometry\n",
      " 18  index_right  2275 non-null   int64   \n",
      " 19  adcode       2275 non-null   int64   \n",
      " 20  name         2275 non-null   object  \n",
      " 21  center       0 non-null      object  \n",
      " 22  centroid     0 non-null      object  \n",
      " 23  childrenNu   2275 non-null   int64   \n",
      " 24  level        2275 non-null   object  \n",
      " 25  parent       0 non-null      object  \n",
      " 26  subFeature   2275 non-null   int64   \n",
      " 27  acroutes     0 non-null      object  \n",
      "dtypes: float64(15), geometry(1), int64(6), object(6)\n",
      "memory usage: 515.4+ KB\n"
     ]
    }
   ],
   "execution_count": 30
  },
  {
   "metadata": {
    "ExecuteTime": {
     "end_time": "2024-12-14T16:42:58.764747Z",
     "start_time": "2024-12-14T16:42:58.752099Z"
    }
   },
   "cell_type": "code",
   "source": "filtered_community_gdf.columns",
   "id": "6a40cb2c19856fcc",
   "outputs": [
    {
     "data": {
      "text/plain": [
       "Index(['PRI', 'FAR', 'PRO', 'GRE', 'BUS', 'HOS', 'MAR', 'SUB', 'PSC', 'MSC',\n",
       "       'PAR', 'CBD', 'SCBD', 'RIV', 'ARE', 'latitude', 'longitude', 'geometry',\n",
       "       'index_right', 'adcode', 'name', 'center', 'centroid', 'childrenNu',\n",
       "       'level', 'parent', 'subFeature', 'acroutes'],\n",
       "      dtype='object')"
      ]
     },
     "execution_count": 36,
     "metadata": {},
     "output_type": "execute_result"
    }
   ],
   "execution_count": 36
  },
  {
   "metadata": {
    "ExecuteTime": {
     "end_time": "2024-12-14T16:45:04.986906Z",
     "start_time": "2024-12-14T16:45:04.940731Z"
    }
   },
   "cell_type": "code",
   "source": [
    "filtered_data = pd.DataFrame(community_gdf[['PRI', 'FAR', 'PRO', 'GRE', 'BUS', 'HOS', 'MAR', 'SUB', 'PSC', 'MSC',\n",
    "       'PAR', 'CBD', 'SCBD', 'RIV', 'ARE', 'latitude', 'longitude']])\n",
    "filtered_data.to_csv('filtered_data.csv', index=False)"
   ],
   "id": "1e8d2e2cb0548cb8",
   "outputs": [],
   "execution_count": 37
  }
 ],
 "metadata": {
  "kernelspec": {
   "display_name": "Python 3",
   "language": "python",
   "name": "python3"
  },
  "language_info": {
   "codemirror_mode": {
    "name": "ipython",
    "version": 2
   },
   "file_extension": ".py",
   "mimetype": "text/x-python",
   "name": "python",
   "nbconvert_exporter": "python",
   "pygments_lexer": "ipython2",
   "version": "2.7.6"
  }
 },
 "nbformat": 4,
 "nbformat_minor": 5
}
