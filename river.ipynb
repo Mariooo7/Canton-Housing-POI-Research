{
 "cells": [
  {
   "cell_type": "code",
   "id": "initial_id",
   "metadata": {
    "collapsed": true,
    "ExecuteTime": {
     "end_time": "2024-12-14T11:58:19.940938Z",
     "start_time": "2024-12-14T11:58:19.468043Z"
    }
   },
   "source": [
    "import geopandas as gpd\n",
    "import pandas as pd\n",
    "from shapely.ops import nearest_points"
   ],
   "outputs": [],
   "execution_count": 1
  },
  {
   "metadata": {
    "ExecuteTime": {
     "end_time": "2024-12-14T11:58:20.266278Z",
     "start_time": "2024-12-14T11:58:19.945959Z"
    }
   },
   "cell_type": "code",
   "source": [
    "# 注意使用GBK编码打开 否则中文字符无法显示\n",
    "river_shape = gpd.read_file('river/R1/R1/pearl_river.shp', encoding = 'gbk')"
   ],
   "id": "fa3d111143d07ba4",
   "outputs": [],
   "execution_count": 2
  },
  {
   "metadata": {
    "ExecuteTime": {
     "end_time": "2024-12-14T11:58:20.391618Z",
     "start_time": "2024-12-14T11:58:20.362403Z"
    }
   },
   "cell_type": "code",
   "source": "river_shape.head()",
   "id": "c19917f41e0013bc",
   "outputs": [
    {
     "data": {
      "text/plain": [
       "   FNODE_  TNODE_  LPOLY_  RPOLY_  LENGTH  HYD1_4M_  HYD1_4M_ID  GBCODE  \\\n",
       "0      18      18       6       4   0.075         1        1359   23010   \n",
       "1      19      19       5       4   0.111         2        1359   23010   \n",
       "2      21      21       7       4   0.104         3        1359   23010   \n",
       "3      29      32      10      13   0.418         4         355   21011   \n",
       "4      31      33      11      12   0.084         5         346   21011   \n",
       "\n",
       "         NAME  LEVEL_RIVE  LEVEL_LAKE  \\\n",
       "0        克鲁伦河           3           1   \n",
       "1        克鲁伦河           3           1   \n",
       "2        克鲁伦河           3           1   \n",
       "3  乌加河(乌珠尔郭勒)           4           0   \n",
       "4          黄河           1           0   \n",
       "\n",
       "                                            geometry  \n",
       "0  LINESTRING (117.75391 49.16444, 117.75777 49.1...  \n",
       "1  LINESTRING (117.71732 49.18985, 117.72263 49.1...  \n",
       "2  LINESTRING (117.00603 48.79309, 117.00961 48.7...  \n",
       "3  LINESTRING (107.79887 41.20994, 107.80186 41.2...  \n",
       "4  LINESTRING (107.54871 41.24770, 107.54420 41.2...  "
      ],
      "text/html": [
       "<div>\n",
       "<style scoped>\n",
       "    .dataframe tbody tr th:only-of-type {\n",
       "        vertical-align: middle;\n",
       "    }\n",
       "\n",
       "    .dataframe tbody tr th {\n",
       "        vertical-align: top;\n",
       "    }\n",
       "\n",
       "    .dataframe thead th {\n",
       "        text-align: right;\n",
       "    }\n",
       "</style>\n",
       "<table border=\"1\" class=\"dataframe\">\n",
       "  <thead>\n",
       "    <tr style=\"text-align: right;\">\n",
       "      <th></th>\n",
       "      <th>FNODE_</th>\n",
       "      <th>TNODE_</th>\n",
       "      <th>LPOLY_</th>\n",
       "      <th>RPOLY_</th>\n",
       "      <th>LENGTH</th>\n",
       "      <th>HYD1_4M_</th>\n",
       "      <th>HYD1_4M_ID</th>\n",
       "      <th>GBCODE</th>\n",
       "      <th>NAME</th>\n",
       "      <th>LEVEL_RIVE</th>\n",
       "      <th>LEVEL_LAKE</th>\n",
       "      <th>geometry</th>\n",
       "    </tr>\n",
       "  </thead>\n",
       "  <tbody>\n",
       "    <tr>\n",
       "      <th>0</th>\n",
       "      <td>18</td>\n",
       "      <td>18</td>\n",
       "      <td>6</td>\n",
       "      <td>4</td>\n",
       "      <td>0.075</td>\n",
       "      <td>1</td>\n",
       "      <td>1359</td>\n",
       "      <td>23010</td>\n",
       "      <td>克鲁伦河</td>\n",
       "      <td>3</td>\n",
       "      <td>1</td>\n",
       "      <td>LINESTRING (117.75391 49.16444, 117.75777 49.1...</td>\n",
       "    </tr>\n",
       "    <tr>\n",
       "      <th>1</th>\n",
       "      <td>19</td>\n",
       "      <td>19</td>\n",
       "      <td>5</td>\n",
       "      <td>4</td>\n",
       "      <td>0.111</td>\n",
       "      <td>2</td>\n",
       "      <td>1359</td>\n",
       "      <td>23010</td>\n",
       "      <td>克鲁伦河</td>\n",
       "      <td>3</td>\n",
       "      <td>1</td>\n",
       "      <td>LINESTRING (117.71732 49.18985, 117.72263 49.1...</td>\n",
       "    </tr>\n",
       "    <tr>\n",
       "      <th>2</th>\n",
       "      <td>21</td>\n",
       "      <td>21</td>\n",
       "      <td>7</td>\n",
       "      <td>4</td>\n",
       "      <td>0.104</td>\n",
       "      <td>3</td>\n",
       "      <td>1359</td>\n",
       "      <td>23010</td>\n",
       "      <td>克鲁伦河</td>\n",
       "      <td>3</td>\n",
       "      <td>1</td>\n",
       "      <td>LINESTRING (117.00603 48.79309, 117.00961 48.7...</td>\n",
       "    </tr>\n",
       "    <tr>\n",
       "      <th>3</th>\n",
       "      <td>29</td>\n",
       "      <td>32</td>\n",
       "      <td>10</td>\n",
       "      <td>13</td>\n",
       "      <td>0.418</td>\n",
       "      <td>4</td>\n",
       "      <td>355</td>\n",
       "      <td>21011</td>\n",
       "      <td>乌加河(乌珠尔郭勒)</td>\n",
       "      <td>4</td>\n",
       "      <td>0</td>\n",
       "      <td>LINESTRING (107.79887 41.20994, 107.80186 41.2...</td>\n",
       "    </tr>\n",
       "    <tr>\n",
       "      <th>4</th>\n",
       "      <td>31</td>\n",
       "      <td>33</td>\n",
       "      <td>11</td>\n",
       "      <td>12</td>\n",
       "      <td>0.084</td>\n",
       "      <td>5</td>\n",
       "      <td>346</td>\n",
       "      <td>21011</td>\n",
       "      <td>黄河</td>\n",
       "      <td>1</td>\n",
       "      <td>0</td>\n",
       "      <td>LINESTRING (107.54871 41.24770, 107.54420 41.2...</td>\n",
       "    </tr>\n",
       "  </tbody>\n",
       "</table>\n",
       "</div>"
      ]
     },
     "execution_count": 3,
     "metadata": {},
     "output_type": "execute_result"
    }
   ],
   "execution_count": 3
  },
  {
   "metadata": {
    "ExecuteTime": {
     "end_time": "2024-12-14T11:58:20.453673Z",
     "start_time": "2024-12-14T11:58:20.439103Z"
    }
   },
   "cell_type": "code",
   "source": "river_shape.info()",
   "id": "b9927626f9817be6",
   "outputs": [
    {
     "name": "stdout",
     "output_type": "stream",
     "text": [
      "<class 'geopandas.geodataframe.GeoDataFrame'>\n",
      "RangeIndex: 840 entries, 0 to 839\n",
      "Data columns (total 12 columns):\n",
      " #   Column      Non-Null Count  Dtype   \n",
      "---  ------      --------------  -----   \n",
      " 0   FNODE_      840 non-null    int64   \n",
      " 1   TNODE_      840 non-null    int64   \n",
      " 2   LPOLY_      840 non-null    int64   \n",
      " 3   RPOLY_      840 non-null    int64   \n",
      " 4   LENGTH      840 non-null    float64 \n",
      " 5   HYD1_4M_    840 non-null    int64   \n",
      " 6   HYD1_4M_ID  840 non-null    int64   \n",
      " 7   GBCODE      840 non-null    int64   \n",
      " 8   NAME        796 non-null    object  \n",
      " 9   LEVEL_RIVE  840 non-null    int64   \n",
      " 10  LEVEL_LAKE  840 non-null    int64   \n",
      " 11  geometry    840 non-null    geometry\n",
      "dtypes: float64(1), geometry(1), int64(9), object(1)\n",
      "memory usage: 78.9+ KB\n"
     ]
    }
   ],
   "execution_count": 4
  },
  {
   "metadata": {
    "ExecuteTime": {
     "end_time": "2024-12-14T11:58:20.514388Z",
     "start_time": "2024-12-14T11:58:20.501235Z"
    }
   },
   "cell_type": "code",
   "source": "river_shape['NAME'].unique()",
   "id": "c6929953d22a4fc9",
   "outputs": [
    {
     "data": {
      "text/plain": [
       "array(['克鲁伦河', '乌加河(乌珠尔郭勒)', '黄河', None, '布哈河(盐坎河)',\n",
       "       '京杭运河(梁济运河、湖西航道、不牢河)', '淮河', '京杭运河(里运河)', '长江', '雅鲁藏布江', '赣江',\n",
       "       '浔江', '西江', '黑龙江', '额尔古纳河', '海拉尔河', '松阿察河', '奎屯河', '开都河', '北运河',\n",
       "       '南运河(卫运河、小运河)', '约古宗列渠', '京杭运河(韩庄运河)', '通天河', '沱沱河(玛曲)',\n",
       "       '京杭运河(中运河)', '扎曲', '狮泉河(森格藏布、印度河)', '扎加藏布(香嘎曲)', '金沙江', '澜沧江',\n",
       "       '当却藏布(马泉河)', '京杭运河(江南运河)', '湘江', '南盘江', '红水河', '黔江',\n",
       "       '珠江(前航道、后航道、虎门水道)', '北江干流水道(顺德水道、沙湾水道)', '北江(浈水)',\n",
       "       '西江干流水道(西海水道、磨刀门水道)', '洪奇沥水道', '蕉门水道', '横门水道(小榄水道、东海水道)'],\n",
       "      dtype=object)"
      ]
     },
     "execution_count": 5,
     "metadata": {},
     "output_type": "execute_result"
    }
   ],
   "execution_count": 5
  },
  {
   "metadata": {
    "ExecuteTime": {
     "end_time": "2024-12-14T11:58:20.576163Z",
     "start_time": "2024-12-14T11:58:20.560113Z"
    }
   },
   "cell_type": "code",
   "source": [
    "# 筛选出珠江的边界信息\n",
    "pearl_river = river_shape[river_shape['NAME'] == '珠江(前航道、后航道、虎门水道)']"
   ],
   "id": "1953b18cb96e042e",
   "outputs": [],
   "execution_count": 6
  },
  {
   "metadata": {
    "ExecuteTime": {
     "end_time": "2024-12-14T11:58:20.607301Z",
     "start_time": "2024-12-14T11:58:20.595759Z"
    }
   },
   "cell_type": "code",
   "source": "pearl_river.info()",
   "id": "52207be0ca69307c",
   "outputs": [
    {
     "name": "stdout",
     "output_type": "stream",
     "text": [
      "<class 'geopandas.geodataframe.GeoDataFrame'>\n",
      "Index: 23 entries, 761 to 813\n",
      "Data columns (total 12 columns):\n",
      " #   Column      Non-Null Count  Dtype   \n",
      "---  ------      --------------  -----   \n",
      " 0   FNODE_      23 non-null     int64   \n",
      " 1   TNODE_      23 non-null     int64   \n",
      " 2   LPOLY_      23 non-null     int64   \n",
      " 3   RPOLY_      23 non-null     int64   \n",
      " 4   LENGTH      23 non-null     float64 \n",
      " 5   HYD1_4M_    23 non-null     int64   \n",
      " 6   HYD1_4M_ID  23 non-null     int64   \n",
      " 7   GBCODE      23 non-null     int64   \n",
      " 8   NAME        23 non-null     object  \n",
      " 9   LEVEL_RIVE  23 non-null     int64   \n",
      " 10  LEVEL_LAKE  23 non-null     int64   \n",
      " 11  geometry    23 non-null     geometry\n",
      "dtypes: float64(1), geometry(1), int64(9), object(1)\n",
      "memory usage: 2.3+ KB\n"
     ]
    }
   ],
   "execution_count": 7
  },
  {
   "metadata": {
    "ExecuteTime": {
     "end_time": "2024-12-14T11:58:20.638725Z",
     "start_time": "2024-12-14T11:58:20.625194Z"
    }
   },
   "cell_type": "code",
   "source": "pearl_river.head()",
   "id": "d682f8b184cc04d",
   "outputs": [
    {
     "data": {
      "text/plain": [
       "     FNODE_  TNODE_  LPOLY_  RPOLY_  LENGTH  HYD1_4M_  HYD1_4M_ID  GBCODE  \\\n",
       "761     676     677       1     521   0.353       762        1125   21011   \n",
       "768     739     739     524     520   0.071       769        1125   21011   \n",
       "769     740     740     526     520   0.071       770        1125   21011   \n",
       "770     742     742     528     520   0.055       771        1125   21011   \n",
       "771     745     745     530     520   0.045       772        1125   21011   \n",
       "\n",
       "                 NAME  LEVEL_RIVE  LEVEL_LAKE  \\\n",
       "761  珠江(前航道、后航道、虎门水道)           1           0   \n",
       "768  珠江(前航道、后航道、虎门水道)           1           0   \n",
       "769  珠江(前航道、后航道、虎门水道)           1           0   \n",
       "770  珠江(前航道、后航道、虎门水道)           1           0   \n",
       "771  珠江(前航道、后航道、虎门水道)           1           0   \n",
       "\n",
       "                                              geometry  \n",
       "761  LINESTRING (112.88452 23.15541, 112.88712 23.1...  \n",
       "768  LINESTRING (113.21986 23.11990, 113.21873 23.1...  \n",
       "769  LINESTRING (113.29226 23.11082, 113.29701 23.1...  \n",
       "770  LINESTRING (113.41726 23.09560, 113.41535 23.0...  \n",
       "771  LINESTRING (113.48840 23.07078, 113.48702 23.0...  "
      ],
      "text/html": [
       "<div>\n",
       "<style scoped>\n",
       "    .dataframe tbody tr th:only-of-type {\n",
       "        vertical-align: middle;\n",
       "    }\n",
       "\n",
       "    .dataframe tbody tr th {\n",
       "        vertical-align: top;\n",
       "    }\n",
       "\n",
       "    .dataframe thead th {\n",
       "        text-align: right;\n",
       "    }\n",
       "</style>\n",
       "<table border=\"1\" class=\"dataframe\">\n",
       "  <thead>\n",
       "    <tr style=\"text-align: right;\">\n",
       "      <th></th>\n",
       "      <th>FNODE_</th>\n",
       "      <th>TNODE_</th>\n",
       "      <th>LPOLY_</th>\n",
       "      <th>RPOLY_</th>\n",
       "      <th>LENGTH</th>\n",
       "      <th>HYD1_4M_</th>\n",
       "      <th>HYD1_4M_ID</th>\n",
       "      <th>GBCODE</th>\n",
       "      <th>NAME</th>\n",
       "      <th>LEVEL_RIVE</th>\n",
       "      <th>LEVEL_LAKE</th>\n",
       "      <th>geometry</th>\n",
       "    </tr>\n",
       "  </thead>\n",
       "  <tbody>\n",
       "    <tr>\n",
       "      <th>761</th>\n",
       "      <td>676</td>\n",
       "      <td>677</td>\n",
       "      <td>1</td>\n",
       "      <td>521</td>\n",
       "      <td>0.353</td>\n",
       "      <td>762</td>\n",
       "      <td>1125</td>\n",
       "      <td>21011</td>\n",
       "      <td>珠江(前航道、后航道、虎门水道)</td>\n",
       "      <td>1</td>\n",
       "      <td>0</td>\n",
       "      <td>LINESTRING (112.88452 23.15541, 112.88712 23.1...</td>\n",
       "    </tr>\n",
       "    <tr>\n",
       "      <th>768</th>\n",
       "      <td>739</td>\n",
       "      <td>739</td>\n",
       "      <td>524</td>\n",
       "      <td>520</td>\n",
       "      <td>0.071</td>\n",
       "      <td>769</td>\n",
       "      <td>1125</td>\n",
       "      <td>21011</td>\n",
       "      <td>珠江(前航道、后航道、虎门水道)</td>\n",
       "      <td>1</td>\n",
       "      <td>0</td>\n",
       "      <td>LINESTRING (113.21986 23.11990, 113.21873 23.1...</td>\n",
       "    </tr>\n",
       "    <tr>\n",
       "      <th>769</th>\n",
       "      <td>740</td>\n",
       "      <td>740</td>\n",
       "      <td>526</td>\n",
       "      <td>520</td>\n",
       "      <td>0.071</td>\n",
       "      <td>770</td>\n",
       "      <td>1125</td>\n",
       "      <td>21011</td>\n",
       "      <td>珠江(前航道、后航道、虎门水道)</td>\n",
       "      <td>1</td>\n",
       "      <td>0</td>\n",
       "      <td>LINESTRING (113.29226 23.11082, 113.29701 23.1...</td>\n",
       "    </tr>\n",
       "    <tr>\n",
       "      <th>770</th>\n",
       "      <td>742</td>\n",
       "      <td>742</td>\n",
       "      <td>528</td>\n",
       "      <td>520</td>\n",
       "      <td>0.055</td>\n",
       "      <td>771</td>\n",
       "      <td>1125</td>\n",
       "      <td>21011</td>\n",
       "      <td>珠江(前航道、后航道、虎门水道)</td>\n",
       "      <td>1</td>\n",
       "      <td>0</td>\n",
       "      <td>LINESTRING (113.41726 23.09560, 113.41535 23.0...</td>\n",
       "    </tr>\n",
       "    <tr>\n",
       "      <th>771</th>\n",
       "      <td>745</td>\n",
       "      <td>745</td>\n",
       "      <td>530</td>\n",
       "      <td>520</td>\n",
       "      <td>0.045</td>\n",
       "      <td>772</td>\n",
       "      <td>1125</td>\n",
       "      <td>21011</td>\n",
       "      <td>珠江(前航道、后航道、虎门水道)</td>\n",
       "      <td>1</td>\n",
       "      <td>0</td>\n",
       "      <td>LINESTRING (113.48840 23.07078, 113.48702 23.0...</td>\n",
       "    </tr>\n",
       "  </tbody>\n",
       "</table>\n",
       "</div>"
      ]
     },
     "execution_count": 8,
     "metadata": {},
     "output_type": "execute_result"
    }
   ],
   "execution_count": 8
  },
  {
   "metadata": {
    "ExecuteTime": {
     "end_time": "2024-12-14T11:58:21.327089Z",
     "start_time": "2024-12-14T11:58:20.719853Z"
    }
   },
   "cell_type": "code",
   "source": [
    "# 可视化\n",
    "pearl_river['geometry'].plot()"
   ],
   "id": "71ee9030f035b68a",
   "outputs": [
    {
     "data": {
      "text/plain": [
       "<Axes: >"
      ]
     },
     "execution_count": 9,
     "metadata": {},
     "output_type": "execute_result"
    },
    {
     "data": {
      "text/plain": [
       "<Figure size 640x480 with 1 Axes>"
      ],
      "image/png": "[encoded data removed]"
     },
     "metadata": {},
     "output_type": "display_data"
    }
   ],
   "execution_count": 9
  },
  {
   "metadata": {
    "ExecuteTime": {
     "end_time": "2024-12-14T11:58:21.420223Z",
     "start_time": "2024-12-14T11:58:21.406190Z"
    }
   },
   "cell_type": "code",
   "source": [
    "# pearl_river有多段 需要合并为一合并几何体\n",
    "pearl_river_union = pearl_river.unary_union"
   ],
   "id": "ff4649a785d2acee",
   "outputs": [],
   "execution_count": 10
  },
  {
   "metadata": {
    "ExecuteTime": {
     "end_time": "2024-12-14T11:58:21.465842Z",
     "start_time": "2024-12-14T11:58:21.441264Z"
    }
   },
   "cell_type": "code",
   "source": [
    "# 读取小区CSV文件\n",
    "communities = pd.read_csv('communities_with_distance.csv')"
   ],
   "id": "d5b2eef0b4ea2a86",
   "outputs": [],
   "execution_count": 11
  },
  {
   "metadata": {
    "ExecuteTime": {
     "end_time": "2024-12-14T11:58:21.511064Z",
     "start_time": "2024-12-14T11:58:21.497990Z"
    }
   },
   "cell_type": "code",
   "source": [
    "# 创建GeoDataFrame\n",
    "community_gdf = gpd.GeoDataFrame(communities, geometry=gpd.points_from_xy(communities.longitude, communities.latitude))"
   ],
   "id": "21ff9031aeffb3db",
   "outputs": [],
   "execution_count": 12
  },
  {
   "metadata": {
    "ExecuteTime": {
     "end_time": "2024-12-14T11:58:21.587282Z",
     "start_time": "2024-12-14T11:58:21.543697Z"
    }
   },
   "cell_type": "code",
   "source": [
    "# 使用set_crs方法并通过epsg参数设置GCJ-02坐标参考系\n",
    "community_gdf.set_crs(epsg = 4490, inplace=True)"
   ],
   "id": "7cf5c64a14ae661d",
   "outputs": [
    {
     "data": {
      "text/plain": [
       "              小区名字               小区地址     均价   容积率  有无停车位  物业费_元/平方米/月  \\\n",
       "0             盈彩美居          天河-东圃-盈溪路  54560  2.88      1         1.20   \n",
       "1             兰亭盛荟        天河-东圃-东圃明镜路  70093  3.80      1         3.50   \n",
       "2           中海康城花园        天河-黄村-广园快速路  45544  1.74      1         2.37   \n",
       "3              宝翠园        天河-龙洞-宝翠路4号  58641  2.66      1         1.90   \n",
       "4            东方新世界  天河-天河公园-中山大道西158号  84828  3.99      1         2.30   \n",
       "...            ...                ...    ...   ...    ...          ...   \n",
       "2277            谊园      荔湾-黄沙-黄沙后道17号  30000  1.30      0         0.50   \n",
       "2278  文昌北路幸福二巷9号小区   荔湾-龙津-文昌北路幸福二巷9号  24600  1.20      0         0.50   \n",
       "2279      新基路23号小区       荔湾-黄沙-新基路23号  19000  1.50      0         0.90   \n",
       "2280    广东省林业厅机关大院   荔湾-荔湾路-中山七路,近荔湾路  32400  1.50      0         0.90   \n",
       "2281    环市西路118号小区    荔湾-站前路-环市西路118号  20000  1.50      0         0.90   \n",
       "\n",
       "      绿化率_percent   latitude   longitude         BUS          HOS         MAR  \\\n",
       "0            30.0  23.124325  113.415697  256.509826  1535.484711  175.643977   \n",
       "1            62.0  23.124325  113.415697  256.509826  1535.484711  175.643977   \n",
       "2            40.0  23.132456  113.419568  152.513554  2100.395942  451.259944   \n",
       "3            45.2  23.196825  113.369955   23.832257  5297.997351  346.016106   \n",
       "4            42.0  23.139163  113.366326  219.307358   265.723923  300.167413   \n",
       "...           ...        ...         ...         ...          ...         ...   \n",
       "2277         21.0  23.116697  113.244851  150.466942   797.397138  114.856281   \n",
       "2278         20.0  23.128803  113.249009  149.311374   674.475356  129.548988   \n",
       "2279         30.0  23.113663  113.256889   67.637696   400.874367  421.637304   \n",
       "2280         30.0  23.131960  113.255550   74.292266    58.105729  248.886638   \n",
       "2281         30.0  23.151427  113.254238  162.051286   965.136507  511.160093   \n",
       "\n",
       "              SUB         PSC          MSC          PAR          CBD  \\\n",
       "0     1196.714612  417.639070   856.055562   161.120353  9319.496930   \n",
       "1     1196.714612  417.639070   856.055562   161.120353  9319.496930   \n",
       "2     1207.328398  388.567987   383.483784   703.540475  9796.623781   \n",
       "3      713.996616  423.282983   382.525096   362.763426  9674.438398   \n",
       "4     1482.307992  433.038452  1132.855629  1241.665762  4742.191821   \n",
       "...           ...         ...          ...          ...          ...   \n",
       "2277   208.539997  214.598455   244.168609   743.199636  8172.438485   \n",
       "2278   264.325127  196.411919    36.813750   538.100896  7792.099049   \n",
       "2279    64.145321  190.021564   255.215040   620.626459  6971.692484   \n",
       "2280   698.475098  387.641819   461.722336   478.917167  7182.613661   \n",
       "2281   330.179234  392.271435   738.475958   591.629367  7983.219801   \n",
       "\n",
       "             SCBD                    geometry  \n",
       "0     7467.040911  POINT (113.41570 23.12433)  \n",
       "1     7467.040911  POINT (113.41570 23.12433)  \n",
       "2     8166.680740  POINT (113.41957 23.13246)  \n",
       "3     9123.633151  POINT (113.36996 23.19682)  \n",
       "4     4540.610699  POINT (113.36633 23.13916)  \n",
       "...           ...                         ...  \n",
       "2277  1544.883691  POINT (113.24485 23.11670)  \n",
       "2278  2194.864643  POINT (113.24901 23.12880)  \n",
       "2279   331.799334  POINT (113.25689 23.11366)  \n",
       "2280  2330.761998  POINT (113.25555 23.13196)  \n",
       "2281  4496.214669  POINT (113.25424 23.15143)  \n",
       "\n",
       "[2282 rows x 19 columns]"
      ],
      "text/html": [
       "<div>\n",
       "<style scoped>\n",
       "    .dataframe tbody tr th:only-of-type {\n",
       "        vertical-align: middle;\n",
       "    }\n",
       "\n",
       "    .dataframe tbody tr th {\n",
       "        vertical-align: top;\n",
       "    }\n",
       "\n",
       "    .dataframe thead th {\n",
       "        text-align: right;\n",
       "    }\n",
       "</style>\n",
       "<table border=\"1\" class=\"dataframe\">\n",
       "  <thead>\n",
       "    <tr style=\"text-align: right;\">\n",
       "      <th></th>\n",
       "      <th>小区名字</th>\n",
       "      <th>小区地址</th>\n",
       "      <th>均价</th>\n",
       "      <th>容积率</th>\n",
       "      <th>有无停车位</th>\n",
       "      <th>物业费_元/平方米/月</th>\n",
       "      <th>绿化率_percent</th>\n",
       "      <th>latitude</th>\n",
       "      <th>longitude</th>\n",
       "      <th>BUS</th>\n",
       "      <th>HOS</th>\n",
       "      <th>MAR</th>\n",
       "      <th>SUB</th>\n",
       "      <th>PSC</th>\n",
       "      <th>MSC</th>\n",
       "      <th>PAR</th>\n",
       "      <th>CBD</th>\n",
       "      <th>SCBD</th>\n",
       "      <th>geometry</th>\n",
       "    </tr>\n",
       "  </thead>\n",
       "  <tbody>\n",
       "    <tr>\n",
       "      <th>0</th>\n",
       "      <td>盈彩美居</td>\n",
       "      <td>天河-东圃-盈溪路</td>\n",
       "      <td>54560</td>\n",
       "      <td>2.88</td>\n",
       "      <td>1</td>\n",
       "      <td>1.20</td>\n",
       "      <td>30.0</td>\n",
       "      <td>23.124325</td>\n",
       "      <td>113.415697</td>\n",
       "      <td>256.509826</td>\n",
       "      <td>1535.484711</td>\n",
       "      <td>175.643977</td>\n",
       "      <td>1196.714612</td>\n",
       "      <td>417.639070</td>\n",
       "      <td>856.055562</td>\n",
       "      <td>161.120353</td>\n",
       "      <td>9319.496930</td>\n",
       "      <td>7467.040911</td>\n",
       "      <td>POINT (113.41570 23.12433)</td>\n",
       "    </tr>\n",
       "    <tr>\n",
       "      <th>1</th>\n",
       "      <td>兰亭盛荟</td>\n",
       "      <td>天河-东圃-东圃明镜路</td>\n",
       "      <td>70093</td>\n",
       "      <td>3.80</td>\n",
       "      <td>1</td>\n",
       "      <td>3.50</td>\n",
       "      <td>62.0</td>\n",
       "      <td>23.124325</td>\n",
       "      <td>113.415697</td>\n",
       "      <td>256.509826</td>\n",
       "      <td>1535.484711</td>\n",
       "      <td>175.643977</td>\n",
       "      <td>1196.714612</td>\n",
       "      <td>417.639070</td>\n",
       "      <td>856.055562</td>\n",
       "      <td>161.120353</td>\n",
       "      <td>9319.496930</td>\n",
       "      <td>7467.040911</td>\n",
       "      <td>POINT (113.41570 23.12433)</td>\n",
       "    </tr>\n",
       "    <tr>\n",
       "      <th>2</th>\n",
       "      <td>中海康城花园</td>\n",
       "      <td>天河-黄村-广园快速路</td>\n",
       "      <td>45544</td>\n",
       "      <td>1.74</td>\n",
       "      <td>1</td>\n",
       "      <td>2.37</td>\n",
       "      <td>40.0</td>\n",
       "      <td>23.132456</td>\n",
       "      <td>113.419568</td>\n",
       "      <td>152.513554</td>\n",
       "      <td>2100.395942</td>\n",
       "      <td>451.259944</td>\n",
       "      <td>1207.328398</td>\n",
       "      <td>388.567987</td>\n",
       "      <td>383.483784</td>\n",
       "      <td>703.540475</td>\n",
       "      <td>9796.623781</td>\n",
       "      <td>8166.680740</td>\n",
       "      <td>POINT (113.41957 23.13246)</td>\n",
       "    </tr>\n",
       "    <tr>\n",
       "      <th>3</th>\n",
       "      <td>宝翠园</td>\n",
       "      <td>天河-龙洞-宝翠路4号</td>\n",
       "      <td>58641</td>\n",
       "      <td>2.66</td>\n",
       "      <td>1</td>\n",
       "      <td>1.90</td>\n",
       "      <td>45.2</td>\n",
       "      <td>23.196825</td>\n",
       "      <td>113.369955</td>\n",
       "      <td>23.832257</td>\n",
       "      <td>5297.997351</td>\n",
       "      <td>346.016106</td>\n",
       "      <td>713.996616</td>\n",
       "      <td>423.282983</td>\n",
       "      <td>382.525096</td>\n",
       "      <td>362.763426</td>\n",
       "      <td>9674.438398</td>\n",
       "      <td>9123.633151</td>\n",
       "      <td>POINT (113.36996 23.19682)</td>\n",
       "    </tr>\n",
       "    <tr>\n",
       "      <th>4</th>\n",
       "      <td>东方新世界</td>\n",
       "      <td>天河-天河公园-中山大道西158号</td>\n",
       "      <td>84828</td>\n",
       "      <td>3.99</td>\n",
       "      <td>1</td>\n",
       "      <td>2.30</td>\n",
       "      <td>42.0</td>\n",
       "      <td>23.139163</td>\n",
       "      <td>113.366326</td>\n",
       "      <td>219.307358</td>\n",
       "      <td>265.723923</td>\n",
       "      <td>300.167413</td>\n",
       "      <td>1482.307992</td>\n",
       "      <td>433.038452</td>\n",
       "      <td>1132.855629</td>\n",
       "      <td>1241.665762</td>\n",
       "      <td>4742.191821</td>\n",
       "      <td>4540.610699</td>\n",
       "      <td>POINT (113.36633 23.13916)</td>\n",
       "    </tr>\n",
       "    <tr>\n",
       "      <th>...</th>\n",
       "      <td>...</td>\n",
       "      <td>...</td>\n",
       "      <td>...</td>\n",
       "      <td>...</td>\n",
       "      <td>...</td>\n",
       "      <td>...</td>\n",
       "      <td>...</td>\n",
       "      <td>...</td>\n",
       "      <td>...</td>\n",
       "      <td>...</td>\n",
       "      <td>...</td>\n",
       "      <td>...</td>\n",
       "      <td>...</td>\n",
       "      <td>...</td>\n",
       "      <td>...</td>\n",
       "      <td>...</td>\n",
       "      <td>...</td>\n",
       "      <td>...</td>\n",
       "      <td>...</td>\n",
       "    </tr>\n",
       "    <tr>\n",
       "      <th>2277</th>\n",
       "      <td>谊园</td>\n",
       "      <td>荔湾-黄沙-黄沙后道17号</td>\n",
       "      <td>30000</td>\n",
       "      <td>1.30</td>\n",
       "      <td>0</td>\n",
       "      <td>0.50</td>\n",
       "      <td>21.0</td>\n",
       "      <td>23.116697</td>\n",
       "      <td>113.244851</td>\n",
       "      <td>150.466942</td>\n",
       "      <td>797.397138</td>\n",
       "      <td>114.856281</td>\n",
       "      <td>208.539997</td>\n",
       "      <td>214.598455</td>\n",
       "      <td>244.168609</td>\n",
       "      <td>743.199636</td>\n",
       "      <td>8172.438485</td>\n",
       "      <td>1544.883691</td>\n",
       "      <td>POINT (113.24485 23.11670)</td>\n",
       "    </tr>\n",
       "    <tr>\n",
       "      <th>2278</th>\n",
       "      <td>文昌北路幸福二巷9号小区</td>\n",
       "      <td>荔湾-龙津-文昌北路幸福二巷9号</td>\n",
       "      <td>24600</td>\n",
       "      <td>1.20</td>\n",
       "      <td>0</td>\n",
       "      <td>0.50</td>\n",
       "      <td>20.0</td>\n",
       "      <td>23.128803</td>\n",
       "      <td>113.249009</td>\n",
       "      <td>149.311374</td>\n",
       "      <td>674.475356</td>\n",
       "      <td>129.548988</td>\n",
       "      <td>264.325127</td>\n",
       "      <td>196.411919</td>\n",
       "      <td>36.813750</td>\n",
       "      <td>538.100896</td>\n",
       "      <td>7792.099049</td>\n",
       "      <td>2194.864643</td>\n",
       "      <td>POINT (113.24901 23.12880)</td>\n",
       "    </tr>\n",
       "    <tr>\n",
       "      <th>2279</th>\n",
       "      <td>新基路23号小区</td>\n",
       "      <td>荔湾-黄沙-新基路23号</td>\n",
       "      <td>19000</td>\n",
       "      <td>1.50</td>\n",
       "      <td>0</td>\n",
       "      <td>0.90</td>\n",
       "      <td>30.0</td>\n",
       "      <td>23.113663</td>\n",
       "      <td>113.256889</td>\n",
       "      <td>67.637696</td>\n",
       "      <td>400.874367</td>\n",
       "      <td>421.637304</td>\n",
       "      <td>64.145321</td>\n",
       "      <td>190.021564</td>\n",
       "      <td>255.215040</td>\n",
       "      <td>620.626459</td>\n",
       "      <td>6971.692484</td>\n",
       "      <td>331.799334</td>\n",
       "      <td>POINT (113.25689 23.11366)</td>\n",
       "    </tr>\n",
       "    <tr>\n",
       "      <th>2280</th>\n",
       "      <td>广东省林业厅机关大院</td>\n",
       "      <td>荔湾-荔湾路-中山七路,近荔湾路</td>\n",
       "      <td>32400</td>\n",
       "      <td>1.50</td>\n",
       "      <td>0</td>\n",
       "      <td>0.90</td>\n",
       "      <td>30.0</td>\n",
       "      <td>23.131960</td>\n",
       "      <td>113.255550</td>\n",
       "      <td>74.292266</td>\n",
       "      <td>58.105729</td>\n",
       "      <td>248.886638</td>\n",
       "      <td>698.475098</td>\n",
       "      <td>387.641819</td>\n",
       "      <td>461.722336</td>\n",
       "      <td>478.917167</td>\n",
       "      <td>7182.613661</td>\n",
       "      <td>2330.761998</td>\n",
       "      <td>POINT (113.25555 23.13196)</td>\n",
       "    </tr>\n",
       "    <tr>\n",
       "      <th>2281</th>\n",
       "      <td>环市西路118号小区</td>\n",
       "      <td>荔湾-站前路-环市西路118号</td>\n",
       "      <td>20000</td>\n",
       "      <td>1.50</td>\n",
       "      <td>0</td>\n",
       "      <td>0.90</td>\n",
       "      <td>30.0</td>\n",
       "      <td>23.151427</td>\n",
       "      <td>113.254238</td>\n",
       "      <td>162.051286</td>\n",
       "      <td>965.136507</td>\n",
       "      <td>511.160093</td>\n",
       "      <td>330.179234</td>\n",
       "      <td>392.271435</td>\n",
       "      <td>738.475958</td>\n",
       "      <td>591.629367</td>\n",
       "      <td>7983.219801</td>\n",
       "      <td>4496.214669</td>\n",
       "      <td>POINT (113.25424 23.15143)</td>\n",
       "    </tr>\n",
       "  </tbody>\n",
       "</table>\n",
       "<p>2282 rows × 19 columns</p>\n",
       "</div>"
      ]
     },
     "execution_count": 13,
     "metadata": {},
     "output_type": "execute_result"
    }
   ],
   "execution_count": 13
  },
  {
   "metadata": {
    "ExecuteTime": {
     "end_time": "2024-12-14T11:58:21.665261Z",
     "start_time": "2024-12-14T11:58:21.651172Z"
    }
   },
   "cell_type": "code",
   "source": [
    "# 定义函数计算每个小区到珠江边界的最短距离并将计算结果单位从度转换为米（1度约为111.32公里）\n",
    "def calculate_min_distance_to_boundary(point):\n",
    "    nearest_point = nearest_points(point, pearl_river_union)\n",
    "    return point.distance(nearest_point[1])*111320"
   ],
   "id": "4209a749337cd03f",
   "outputs": [],
   "execution_count": 14
  },
  {
   "metadata": {
    "ExecuteTime": {
     "end_time": "2024-12-14T11:58:21.803290Z",
     "start_time": "2024-12-14T11:58:21.713458Z"
    }
   },
   "cell_type": "code",
   "source": "community_gdf['min_distance_to_pearl_river'] = community_gdf['geometry'].apply(lambda x: calculate_min_distance_to_boundary(x))",
   "id": "7b5c3cbeb796c71d",
   "outputs": [],
   "execution_count": 15
  },
  {
   "metadata": {
    "ExecuteTime": {
     "end_time": "2024-12-14T11:58:21.834911Z",
     "start_time": "2024-12-14T11:58:21.827318Z"
    }
   },
   "cell_type": "code",
   "source": "community_gdf['min_distance_to_pearl_river'].describe()",
   "id": "572bc0b038726b04",
   "outputs": [
    {
     "data": {
      "text/plain": [
       "count     2282.000000\n",
       "mean      2103.932016\n",
       "std       1286.795292\n",
       "min          1.212449\n",
       "25%       1345.186813\n",
       "50%       2104.807143\n",
       "75%       2507.593101\n",
       "max      11516.574452\n",
       "Name: min_distance_to_pearl_river, dtype: float64"
      ]
     },
     "execution_count": 16,
     "metadata": {},
     "output_type": "execute_result"
    }
   ],
   "execution_count": 16
  },
  {
   "metadata": {
    "ExecuteTime": {
     "end_time": "2024-12-14T11:58:21.957594Z",
     "start_time": "2024-12-14T11:58:21.914261Z"
    }
   },
   "cell_type": "code",
   "source": [
    "# 将新变量写入数据集\n",
    "communities['RIV'] = community_gdf['min_distance_to_pearl_river']\n",
    "communities.to_csv('communities_with_distance_river.csv', index = False)"
   ],
   "id": "97db94d07342c096",
   "outputs": [],
   "execution_count": 17
  }
 ],
 "metadata": {
  "kernelspec": {
   "display_name": "Python 3",
   "language": "python",
   "name": "python3"
  },
  "language_info": {
   "codemirror_mode": {
    "name": "ipython",
    "version": 2
   },
   "file_extension": ".py",
   "mimetype": "text/x-python",
   "name": "python",
   "nbconvert_exporter": "python",
   "pygments_lexer": "ipython2",
   "version": "2.7.6"
  }
 },
 "nbformat": 4,
 "nbformat_minor": 5
}
