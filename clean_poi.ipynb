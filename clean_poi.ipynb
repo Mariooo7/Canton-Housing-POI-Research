{
 "cells": [
  {
   "cell_type": "code",
   "id": "initial_id",
   "metadata": {
    "collapsed": true,
    "ExecuteTime": {
     "end_time": "2024-12-11T12:55:54.381303Z",
     "start_time": "2024-12-11T12:55:53.966079Z"
    }
   },
   "source": "import pandas as pd",
   "outputs": [],
   "execution_count": 1
  },
  {
   "metadata": {
    "ExecuteTime": {
     "end_time": "2024-12-11T13:56:56.499625Z",
     "start_time": "2024-12-11T13:56:55.158409Z"
    }
   },
   "cell_type": "code",
   "source": [
    "df_shopping = pd.read_csv('广州市_广东_202407_购物服务.csv')\n",
    "df_transport = pd.read_csv('广州市_广东_202407_交通设施服务.csv')\n",
    "df_park = pd.read_csv('广州市_广东_202407_风景名胜.csv')\n",
    "df_education = pd.read_csv('广州市_广东_202407_科教文化服务.csv')\n",
    "df_health = pd.read_csv('广州市_广东_202407_医疗保健服务.csv')"
   ],
   "id": "1cf6c2447c59b71d",
   "outputs": [],
   "execution_count": 51
  },
  {
   "metadata": {
    "ExecuteTime": {
     "end_time": "2024-12-11T12:55:55.938924Z",
     "start_time": "2024-12-11T12:55:55.909650Z"
    }
   },
   "cell_type": "code",
   "source": "df_shopping.head()",
   "id": "bb7599564d4839bf",
   "outputs": [
    {
     "data": {
      "text/plain": [
       "           id      name                                   type       typecode  \\\n",
       "0  B0FFLJTFCW  旧光勾机配件啤喉        购物服务;专卖店;专营店|汽车服务;汽车服务相关;汽车服务相关  061200|010000   \n",
       "1  B0GK9MMXH8      战斧车业     购物服务;专卖店;自行车专卖店|汽车服务;汽车配件销售;汽车配件销售  061208|010800   \n",
       "2  B00140IDG2    珠江裕沣农机  购物服务;家居建材市场;建材五金市场|汽车服务;汽车服务相关;汽车服务相关  060603|010000   \n",
       "3  B0FFLJG0JS      益顺车行       购物服务;专卖店;自行车专卖店|汽车服务;二手车交易;二手车交易  061208|011000   \n",
       "4  B0FFLJBUXK      志成车行     购物服务;专卖店;自行车专卖店|汽车服务;汽车服务相关;汽车服务相关  061208|010000   \n",
       "\n",
       "  biztype           address     gcj02_x    gcj02_y     wgs84_x    wgs84_y  \\\n",
       "0      []          新城南路332号  113.729826  23.712852  113.724582  23.715467   \n",
       "1      []     派潭镇派潭大道中34号一楼  113.778869  23.480682  113.773678  23.483284   \n",
       "2      []  发展横路与新广六路交叉口北40米  113.546473  22.700513  113.541344  22.703484   \n",
       "3      []            城新路东北侧  113.581121  23.566138  113.576003  23.568905   \n",
       "4      []     鳌头镇大石古排坊前2OO米  113.458455  23.590939  113.452981  23.593414   \n",
       "\n",
       "            tel pname cityname adname    大类      中类      小类  \n",
       "0            []   广东省      广州市    从化区  购物服务     专卖店     专营店  \n",
       "1   13825118849   广东省      广州市    增城区  购物服务     专卖店  自行车专卖店  \n",
       "2  020-84523248   广东省      广州市    南沙区  购物服务  家居建材市场  建材五金市场  \n",
       "3            []   广东省      广州市    从化区  购物服务     专卖店  自行车专卖店  \n",
       "4            []   广东省      广州市    从化区  购物服务     专卖店  自行车专卖店  "
      ],
      "text/html": [
       "<div>\n",
       "<style scoped>\n",
       "    .dataframe tbody tr th:only-of-type {\n",
       "        vertical-align: middle;\n",
       "    }\n",
       "\n",
       "    .dataframe tbody tr th {\n",
       "        vertical-align: top;\n",
       "    }\n",
       "\n",
       "    .dataframe thead th {\n",
       "        text-align: right;\n",
       "    }\n",
       "</style>\n",
       "<table border=\"1\" class=\"dataframe\">\n",
       "  <thead>\n",
       "    <tr style=\"text-align: right;\">\n",
       "      <th></th>\n",
       "      <th>id</th>\n",
       "      <th>name</th>\n",
       "      <th>type</th>\n",
       "      <th>typecode</th>\n",
       "      <th>biztype</th>\n",
       "      <th>address</th>\n",
       "      <th>gcj02_x</th>\n",
       "      <th>gcj02_y</th>\n",
       "      <th>wgs84_x</th>\n",
       "      <th>wgs84_y</th>\n",
       "      <th>tel</th>\n",
       "      <th>pname</th>\n",
       "      <th>cityname</th>\n",
       "      <th>adname</th>\n",
       "      <th>大类</th>\n",
       "      <th>中类</th>\n",
       "      <th>小类</th>\n",
       "    </tr>\n",
       "  </thead>\n",
       "  <tbody>\n",
       "    <tr>\n",
       "      <th>0</th>\n",
       "      <td>B0FFLJTFCW</td>\n",
       "      <td>旧光勾机配件啤喉</td>\n",
       "      <td>购物服务;专卖店;专营店|汽车服务;汽车服务相关;汽车服务相关</td>\n",
       "      <td>061200|010000</td>\n",
       "      <td>[]</td>\n",
       "      <td>新城南路332号</td>\n",
       "      <td>113.729826</td>\n",
       "      <td>23.712852</td>\n",
       "      <td>113.724582</td>\n",
       "      <td>23.715467</td>\n",
       "      <td>[]</td>\n",
       "      <td>广东省</td>\n",
       "      <td>广州市</td>\n",
       "      <td>从化区</td>\n",
       "      <td>购物服务</td>\n",
       "      <td>专卖店</td>\n",
       "      <td>专营店</td>\n",
       "    </tr>\n",
       "    <tr>\n",
       "      <th>1</th>\n",
       "      <td>B0GK9MMXH8</td>\n",
       "      <td>战斧车业</td>\n",
       "      <td>购物服务;专卖店;自行车专卖店|汽车服务;汽车配件销售;汽车配件销售</td>\n",
       "      <td>061208|010800</td>\n",
       "      <td>[]</td>\n",
       "      <td>派潭镇派潭大道中34号一楼</td>\n",
       "      <td>113.778869</td>\n",
       "      <td>23.480682</td>\n",
       "      <td>113.773678</td>\n",
       "      <td>23.483284</td>\n",
       "      <td>13825118849</td>\n",
       "      <td>广东省</td>\n",
       "      <td>广州市</td>\n",
       "      <td>增城区</td>\n",
       "      <td>购物服务</td>\n",
       "      <td>专卖店</td>\n",
       "      <td>自行车专卖店</td>\n",
       "    </tr>\n",
       "    <tr>\n",
       "      <th>2</th>\n",
       "      <td>B00140IDG2</td>\n",
       "      <td>珠江裕沣农机</td>\n",
       "      <td>购物服务;家居建材市场;建材五金市场|汽车服务;汽车服务相关;汽车服务相关</td>\n",
       "      <td>060603|010000</td>\n",
       "      <td>[]</td>\n",
       "      <td>发展横路与新广六路交叉口北40米</td>\n",
       "      <td>113.546473</td>\n",
       "      <td>22.700513</td>\n",
       "      <td>113.541344</td>\n",
       "      <td>22.703484</td>\n",
       "      <td>020-84523248</td>\n",
       "      <td>广东省</td>\n",
       "      <td>广州市</td>\n",
       "      <td>南沙区</td>\n",
       "      <td>购物服务</td>\n",
       "      <td>家居建材市场</td>\n",
       "      <td>建材五金市场</td>\n",
       "    </tr>\n",
       "    <tr>\n",
       "      <th>3</th>\n",
       "      <td>B0FFLJG0JS</td>\n",
       "      <td>益顺车行</td>\n",
       "      <td>购物服务;专卖店;自行车专卖店|汽车服务;二手车交易;二手车交易</td>\n",
       "      <td>061208|011000</td>\n",
       "      <td>[]</td>\n",
       "      <td>城新路东北侧</td>\n",
       "      <td>113.581121</td>\n",
       "      <td>23.566138</td>\n",
       "      <td>113.576003</td>\n",
       "      <td>23.568905</td>\n",
       "      <td>[]</td>\n",
       "      <td>广东省</td>\n",
       "      <td>广州市</td>\n",
       "      <td>从化区</td>\n",
       "      <td>购物服务</td>\n",
       "      <td>专卖店</td>\n",
       "      <td>自行车专卖店</td>\n",
       "    </tr>\n",
       "    <tr>\n",
       "      <th>4</th>\n",
       "      <td>B0FFLJBUXK</td>\n",
       "      <td>志成车行</td>\n",
       "      <td>购物服务;专卖店;自行车专卖店|汽车服务;汽车服务相关;汽车服务相关</td>\n",
       "      <td>061208|010000</td>\n",
       "      <td>[]</td>\n",
       "      <td>鳌头镇大石古排坊前2OO米</td>\n",
       "      <td>113.458455</td>\n",
       "      <td>23.590939</td>\n",
       "      <td>113.452981</td>\n",
       "      <td>23.593414</td>\n",
       "      <td>[]</td>\n",
       "      <td>广东省</td>\n",
       "      <td>广州市</td>\n",
       "      <td>从化区</td>\n",
       "      <td>购物服务</td>\n",
       "      <td>专卖店</td>\n",
       "      <td>自行车专卖店</td>\n",
       "    </tr>\n",
       "  </tbody>\n",
       "</table>\n",
       "</div>"
      ]
     },
     "execution_count": 3,
     "metadata": {},
     "output_type": "execute_result"
    }
   ],
   "execution_count": 3
  },
  {
   "metadata": {
    "ExecuteTime": {
     "end_time": "2024-12-11T12:55:56.108143Z",
     "start_time": "2024-12-11T12:55:56.097028Z"
    }
   },
   "cell_type": "code",
   "source": "df_shopping.columns",
   "id": "3ab84be2d56b0a19",
   "outputs": [
    {
     "data": {
      "text/plain": [
       "Index(['id', 'name', 'type', 'typecode', 'biztype', 'address', 'gcj02_x',\n",
       "       'gcj02_y', 'wgs84_x', 'wgs84_y', 'tel', 'pname', 'cityname', 'adname',\n",
       "       '大类', '中类', '小类'],\n",
       "      dtype='object')"
      ]
     },
     "execution_count": 4,
     "metadata": {},
     "output_type": "execute_result"
    }
   ],
   "execution_count": 4
  },
  {
   "metadata": {
    "ExecuteTime": {
     "end_time": "2024-12-11T12:55:57.054304Z",
     "start_time": "2024-12-11T12:55:56.981896Z"
    }
   },
   "cell_type": "code",
   "source": "df_shopping.info()",
   "id": "b85d345ab8720876",
   "outputs": [
    {
     "name": "stdout",
     "output_type": "stream",
     "text": [
      "<class 'pandas.core.frame.DataFrame'>\n",
      "RangeIndex: 260429 entries, 0 to 260428\n",
      "Data columns (total 17 columns):\n",
      " #   Column    Non-Null Count   Dtype  \n",
      "---  ------    --------------   -----  \n",
      " 0   id        260429 non-null  object \n",
      " 1   name      260429 non-null  object \n",
      " 2   type      260429 non-null  object \n",
      " 3   typecode  260429 non-null  object \n",
      " 4   biztype   260429 non-null  object \n",
      " 5   address   260082 non-null  object \n",
      " 6   gcj02_x   260429 non-null  float64\n",
      " 7   gcj02_y   260429 non-null  float64\n",
      " 8   wgs84_x   260429 non-null  float64\n",
      " 9   wgs84_y   260429 non-null  float64\n",
      " 10  tel       260429 non-null  object \n",
      " 11  pname     260429 non-null  object \n",
      " 12  cityname  260429 non-null  object \n",
      " 13  adname    260429 non-null  object \n",
      " 14  大类        260429 non-null  object \n",
      " 15  中类        260429 non-null  object \n",
      " 16  小类        260429 non-null  object \n",
      "dtypes: float64(4), object(13)\n",
      "memory usage: 33.8+ MB\n"
     ]
    }
   ],
   "execution_count": 5
  },
  {
   "metadata": {
    "ExecuteTime": {
     "end_time": "2024-12-11T12:55:57.579297Z",
     "start_time": "2024-12-11T12:55:57.552096Z"
    }
   },
   "cell_type": "code",
   "source": "df_shopping['大类'].unique()",
   "id": "9c36df3d1f920166",
   "outputs": [
    {
     "data": {
      "text/plain": [
       "array(['购物服务'], dtype=object)"
      ]
     },
     "execution_count": 6,
     "metadata": {},
     "output_type": "execute_result"
    }
   ],
   "execution_count": 6
  },
  {
   "metadata": {
    "ExecuteTime": {
     "end_time": "2024-12-11T12:55:58.306845Z",
     "start_time": "2024-12-11T12:55:58.279815Z"
    }
   },
   "cell_type": "code",
   "source": "df_shopping['中类'].unique()",
   "id": "8f71ebbe1728ee8a",
   "outputs": [
    {
     "data": {
      "text/plain": [
       "array(['专卖店', '家居建材市场', '购物相关场所', '家电电子卖场', '便民商店/便利店', '综合市场', '服装鞋帽皮具店',\n",
       "       '特色商业街', '超级市场', '花鸟鱼虫市场', '文化用品店', '体育用品店', '特殊买卖场所', '个人用品/化妆品店',\n",
       "       '商场'], dtype=object)"
      ]
     },
     "execution_count": 7,
     "metadata": {},
     "output_type": "execute_result"
    }
   ],
   "execution_count": 7
  },
  {
   "metadata": {
    "ExecuteTime": {
     "end_time": "2024-12-11T12:55:58.919968Z",
     "start_time": "2024-12-11T12:55:58.892423Z"
    }
   },
   "cell_type": "code",
   "source": "df_shopping['小类'].unique()",
   "id": "37ccee5717e1ff45",
   "outputs": [
    {
     "data": {
      "text/plain": [
       "array(['专营店', '自行车专卖店', '建材五金市场', '购物相关场所', '家电电子卖场', '便民商店/便利店', '数码电子',\n",
       "       '综合市场', '品牌服装店', '儿童用品店', '音像店', '果品市场', '家居建材市场', '珠宝首饰工艺品',\n",
       "       '服装鞋帽皮具店', '旧货市场', '蔬菜市场', '眼镜店', '烟酒专卖店', '农副产品市场', '特色商业街', '超市',\n",
       "       '家具城', '土特产专卖店', '灯具瓷器市场', '布艺市场', '花卉市场', '厨卫市场', '手机销售', '文化用品店',\n",
       "       '步行街', '体育用品店', '苏宁', '宠物市场', '水产海鲜市场', '钟表店', '拍卖行', '其它个人用品店',\n",
       "       '书店', '宠物用品店', '品牌皮具店', '古玩字画店', '商场', '花鸟鱼虫市场', '7-ELEVEn便利店',\n",
       "       '户外用品', '普通商场', '家具建材综合市场', '综合家电商场', '礼品饰品店', 'OK便利店', '免税品店',\n",
       "       '品牌鞋店', '李宁专卖店', '摄影器材店', '家乐福', '耐克专卖店', '特殊买卖场所', '购物中心', '典当行',\n",
       "       '国美', '阿迪达斯专卖店', '卜蜂莲花', '屈臣氏', '小商品市场', '品牌箱包店', '高尔夫用品店', '华润',\n",
       "       '惠康超市', '百佳超市', '宝马生活方式', '彪马专卖店', '麦德龙', '万宁超市', '莎莎', '沃尔玛',\n",
       "       '锐步专卖店'], dtype=object)"
      ]
     },
     "execution_count": 8,
     "metadata": {},
     "output_type": "execute_result"
    }
   ],
   "execution_count": 8
  },
  {
   "metadata": {
    "ExecuteTime": {
     "end_time": "2024-12-11T12:55:59.572176Z",
     "start_time": "2024-12-11T12:55:59.542565Z"
    }
   },
   "cell_type": "code",
   "source": "df_shopping = df_shopping[df_shopping['中类'].isin(['便民商店/便利店', '综合市场', '特色商业街', '超级市场','商场'])]",
   "id": "20bdcbe513c31117",
   "outputs": [],
   "execution_count": 9
  },
  {
   "metadata": {
    "ExecuteTime": {
     "end_time": "2024-12-11T12:56:00.039566Z",
     "start_time": "2024-12-11T12:56:00.011166Z"
    }
   },
   "cell_type": "code",
   "source": "df_shopping = df_shopping[df_shopping['adname'].isin(['荔湾区', '越秀区', '天河区', '海珠区'])]",
   "id": "aea410676988f2ca",
   "outputs": [],
   "execution_count": 10
  },
  {
   "metadata": {
    "ExecuteTime": {
     "end_time": "2024-12-11T12:56:00.489060Z",
     "start_time": "2024-12-11T12:56:00.462082Z"
    }
   },
   "cell_type": "code",
   "source": [
    "df_SHOPPING = df_shopping\n",
    "df_SHOPPING.info()"
   ],
   "id": "28f72126862e998c",
   "outputs": [
    {
     "name": "stdout",
     "output_type": "stream",
     "text": [
      "<class 'pandas.core.frame.DataFrame'>\n",
      "Index: 18839 entries, 75 to 260407\n",
      "Data columns (total 17 columns):\n",
      " #   Column    Non-Null Count  Dtype  \n",
      "---  ------    --------------  -----  \n",
      " 0   id        18839 non-null  object \n",
      " 1   name      18839 non-null  object \n",
      " 2   type      18839 non-null  object \n",
      " 3   typecode  18839 non-null  object \n",
      " 4   biztype   18839 non-null  object \n",
      " 5   address   18808 non-null  object \n",
      " 6   gcj02_x   18839 non-null  float64\n",
      " 7   gcj02_y   18839 non-null  float64\n",
      " 8   wgs84_x   18839 non-null  float64\n",
      " 9   wgs84_y   18839 non-null  float64\n",
      " 10  tel       18839 non-null  object \n",
      " 11  pname     18839 non-null  object \n",
      " 12  cityname  18839 non-null  object \n",
      " 13  adname    18839 non-null  object \n",
      " 14  大类        18839 non-null  object \n",
      " 15  中类        18839 non-null  object \n",
      " 16  小类        18839 non-null  object \n",
      "dtypes: float64(4), object(13)\n",
      "memory usage: 2.6+ MB\n"
     ]
    }
   ],
   "execution_count": 11
  },
  {
   "metadata": {
    "ExecuteTime": {
     "end_time": "2024-12-11T12:56:01.976702Z",
     "start_time": "2024-12-11T12:56:01.951238Z"
    }
   },
   "cell_type": "code",
   "source": "df_SHOPPING.head()",
   "id": "66ae2a0deadb9952",
   "outputs": [
    {
     "data": {
      "text/plain": [
       "               id              name  \\\n",
       "75     B0J23Z29A0         啊莹小李车标便利店   \n",
       "78     B0H6DS77CV  AG便利店(金天成印刷包装城店)   \n",
       "15311  B00141V4YB   华润万家便利超市(北瑜翠园店)   \n",
       "15317  B0HUY5T81E           乐百惠生活超市   \n",
       "15322  B0JRP1Y4ON        8836乐百惠便利店   \n",
       "\n",
       "                                            type       typecode biztype  \\\n",
       "75     购物服务;便民商店/便利店;便民商店/便利店|汽车服务;汽车服务相关;汽车服务相关  060200|010000      []   \n",
       "78      购物服务;便民商店/便利店;便民商店/便利店|汽车服务;汽车养护/装饰;汽车养护  060200|010400      []   \n",
       "15311                     购物服务;便民商店/便利店;便民商店/便利店         060200      []   \n",
       "15317                               购物服务;超级市场;超市         060400      []   \n",
       "15322                     购物服务;便民商店/便利店;便民商店/便利店         060200      []   \n",
       "\n",
       "                   address     gcj02_x    gcj02_y     wgs84_x    wgs84_y  \\\n",
       "75        一德路与仁济路交叉口西北120米  113.254520  23.113277  113.249196  23.115964   \n",
       "78          紫荆道73号金天成印刷包装城  113.251626  23.059602  113.246306  23.062312   \n",
       "15311          迎龙路北瑜翠园小区门口  113.364408  23.211069  113.358905  23.213561   \n",
       "15317         渔西路西二巷13号401  113.365122  23.215073  113.359618  23.217562   \n",
       "15322  渔西路西三巷与渔西路南巷交叉口西60米  113.365217  23.215076  113.359713  23.217565   \n",
       "\n",
       "                tel pname cityname adname    大类        中类        小类  \n",
       "75               []   广东省      广州市    越秀区  购物服务  便民商店/便利店  便民商店/便利店  \n",
       "78               []   广东省      广州市    荔湾区  购物服务  便民商店/便利店  便民商店/便利店  \n",
       "15311  020-37213606   广东省      广州市    天河区  购物服务  便民商店/便利店  便民商店/便利店  \n",
       "15317   18998386499   广东省      广州市    天河区  购物服务      超级市场        超市  \n",
       "15322            []   广东省      广州市    天河区  购物服务  便民商店/便利店  便民商店/便利店  "
      ],
      "text/html": [
       "<div>\n",
       "<style scoped>\n",
       "    .dataframe tbody tr th:only-of-type {\n",
       "        vertical-align: middle;\n",
       "    }\n",
       "\n",
       "    .dataframe tbody tr th {\n",
       "        vertical-align: top;\n",
       "    }\n",
       "\n",
       "    .dataframe thead th {\n",
       "        text-align: right;\n",
       "    }\n",
       "</style>\n",
       "<table border=\"1\" class=\"dataframe\">\n",
       "  <thead>\n",
       "    <tr style=\"text-align: right;\">\n",
       "      <th></th>\n",
       "      <th>id</th>\n",
       "      <th>name</th>\n",
       "      <th>type</th>\n",
       "      <th>typecode</th>\n",
       "      <th>biztype</th>\n",
       "      <th>address</th>\n",
       "      <th>gcj02_x</th>\n",
       "      <th>gcj02_y</th>\n",
       "      <th>wgs84_x</th>\n",
       "      <th>wgs84_y</th>\n",
       "      <th>tel</th>\n",
       "      <th>pname</th>\n",
       "      <th>cityname</th>\n",
       "      <th>adname</th>\n",
       "      <th>大类</th>\n",
       "      <th>中类</th>\n",
       "      <th>小类</th>\n",
       "    </tr>\n",
       "  </thead>\n",
       "  <tbody>\n",
       "    <tr>\n",
       "      <th>75</th>\n",
       "      <td>B0J23Z29A0</td>\n",
       "      <td>啊莹小李车标便利店</td>\n",
       "      <td>购物服务;便民商店/便利店;便民商店/便利店|汽车服务;汽车服务相关;汽车服务相关</td>\n",
       "      <td>060200|010000</td>\n",
       "      <td>[]</td>\n",
       "      <td>一德路与仁济路交叉口西北120米</td>\n",
       "      <td>113.254520</td>\n",
       "      <td>23.113277</td>\n",
       "      <td>113.249196</td>\n",
       "      <td>23.115964</td>\n",
       "      <td>[]</td>\n",
       "      <td>广东省</td>\n",
       "      <td>广州市</td>\n",
       "      <td>越秀区</td>\n",
       "      <td>购物服务</td>\n",
       "      <td>便民商店/便利店</td>\n",
       "      <td>便民商店/便利店</td>\n",
       "    </tr>\n",
       "    <tr>\n",
       "      <th>78</th>\n",
       "      <td>B0H6DS77CV</td>\n",
       "      <td>AG便利店(金天成印刷包装城店)</td>\n",
       "      <td>购物服务;便民商店/便利店;便民商店/便利店|汽车服务;汽车养护/装饰;汽车养护</td>\n",
       "      <td>060200|010400</td>\n",
       "      <td>[]</td>\n",
       "      <td>紫荆道73号金天成印刷包装城</td>\n",
       "      <td>113.251626</td>\n",
       "      <td>23.059602</td>\n",
       "      <td>113.246306</td>\n",
       "      <td>23.062312</td>\n",
       "      <td>[]</td>\n",
       "      <td>广东省</td>\n",
       "      <td>广州市</td>\n",
       "      <td>荔湾区</td>\n",
       "      <td>购物服务</td>\n",
       "      <td>便民商店/便利店</td>\n",
       "      <td>便民商店/便利店</td>\n",
       "    </tr>\n",
       "    <tr>\n",
       "      <th>15311</th>\n",
       "      <td>B00141V4YB</td>\n",
       "      <td>华润万家便利超市(北瑜翠园店)</td>\n",
       "      <td>购物服务;便民商店/便利店;便民商店/便利店</td>\n",
       "      <td>060200</td>\n",
       "      <td>[]</td>\n",
       "      <td>迎龙路北瑜翠园小区门口</td>\n",
       "      <td>113.364408</td>\n",
       "      <td>23.211069</td>\n",
       "      <td>113.358905</td>\n",
       "      <td>23.213561</td>\n",
       "      <td>020-37213606</td>\n",
       "      <td>广东省</td>\n",
       "      <td>广州市</td>\n",
       "      <td>天河区</td>\n",
       "      <td>购物服务</td>\n",
       "      <td>便民商店/便利店</td>\n",
       "      <td>便民商店/便利店</td>\n",
       "    </tr>\n",
       "    <tr>\n",
       "      <th>15317</th>\n",
       "      <td>B0HUY5T81E</td>\n",
       "      <td>乐百惠生活超市</td>\n",
       "      <td>购物服务;超级市场;超市</td>\n",
       "      <td>060400</td>\n",
       "      <td>[]</td>\n",
       "      <td>渔西路西二巷13号401</td>\n",
       "      <td>113.365122</td>\n",
       "      <td>23.215073</td>\n",
       "      <td>113.359618</td>\n",
       "      <td>23.217562</td>\n",
       "      <td>18998386499</td>\n",
       "      <td>广东省</td>\n",
       "      <td>广州市</td>\n",
       "      <td>天河区</td>\n",
       "      <td>购物服务</td>\n",
       "      <td>超级市场</td>\n",
       "      <td>超市</td>\n",
       "    </tr>\n",
       "    <tr>\n",
       "      <th>15322</th>\n",
       "      <td>B0JRP1Y4ON</td>\n",
       "      <td>8836乐百惠便利店</td>\n",
       "      <td>购物服务;便民商店/便利店;便民商店/便利店</td>\n",
       "      <td>060200</td>\n",
       "      <td>[]</td>\n",
       "      <td>渔西路西三巷与渔西路南巷交叉口西60米</td>\n",
       "      <td>113.365217</td>\n",
       "      <td>23.215076</td>\n",
       "      <td>113.359713</td>\n",
       "      <td>23.217565</td>\n",
       "      <td>[]</td>\n",
       "      <td>广东省</td>\n",
       "      <td>广州市</td>\n",
       "      <td>天河区</td>\n",
       "      <td>购物服务</td>\n",
       "      <td>便民商店/便利店</td>\n",
       "      <td>便民商店/便利店</td>\n",
       "    </tr>\n",
       "  </tbody>\n",
       "</table>\n",
       "</div>"
      ]
     },
     "execution_count": 12,
     "metadata": {},
     "output_type": "execute_result"
    }
   ],
   "execution_count": 12
  },
  {
   "metadata": {
    "ExecuteTime": {
     "end_time": "2024-12-11T13:04:16.530710Z",
     "start_time": "2024-12-11T13:04:16.504683Z"
    }
   },
   "cell_type": "code",
   "source": [
    "# 删去冗余列\n",
    "# 国测局02坐标是国内使用的有偏坐标 国内地理编码服务供应商也使用这种坐标\n",
    "# WGS84是美国国防部制定的全球通用地理坐标系 GPS使用这种坐标 目的是精确一致\n",
    "# 考虑到我们需要使用百度地图的服务用于小区的定位 故选择前者\n",
    "df_SHOPPING = df_SHOPPING.drop(['type', 'typecode', 'biztype','address', 'wgs84_x','wgs84_y','tel','pname','cityname','大类'], axis=1)\n",
    "df_SHOPPING.head()"
   ],
   "id": "56c7b69f4dcee00a",
   "outputs": [
    {
     "data": {
      "text/plain": [
       "               id              name     gcj02_x    gcj02_y adname        中类  \\\n",
       "75     B0J23Z29A0         啊莹小李车标便利店  113.254520  23.113277    越秀区  便民商店/便利店   \n",
       "78     B0H6DS77CV  AG便利店(金天成印刷包装城店)  113.251626  23.059602    荔湾区  便民商店/便利店   \n",
       "15311  B00141V4YB   华润万家便利超市(北瑜翠园店)  113.364408  23.211069    天河区  便民商店/便利店   \n",
       "15317  B0HUY5T81E           乐百惠生活超市  113.365122  23.215073    天河区      超级市场   \n",
       "15322  B0JRP1Y4ON        8836乐百惠便利店  113.365217  23.215076    天河区  便民商店/便利店   \n",
       "\n",
       "             小类  \n",
       "75     便民商店/便利店  \n",
       "78     便民商店/便利店  \n",
       "15311  便民商店/便利店  \n",
       "15317        超市  \n",
       "15322  便民商店/便利店  "
      ],
      "text/html": [
       "<div>\n",
       "<style scoped>\n",
       "    .dataframe tbody tr th:only-of-type {\n",
       "        vertical-align: middle;\n",
       "    }\n",
       "\n",
       "    .dataframe tbody tr th {\n",
       "        vertical-align: top;\n",
       "    }\n",
       "\n",
       "    .dataframe thead th {\n",
       "        text-align: right;\n",
       "    }\n",
       "</style>\n",
       "<table border=\"1\" class=\"dataframe\">\n",
       "  <thead>\n",
       "    <tr style=\"text-align: right;\">\n",
       "      <th></th>\n",
       "      <th>id</th>\n",
       "      <th>name</th>\n",
       "      <th>gcj02_x</th>\n",
       "      <th>gcj02_y</th>\n",
       "      <th>adname</th>\n",
       "      <th>中类</th>\n",
       "      <th>小类</th>\n",
       "    </tr>\n",
       "  </thead>\n",
       "  <tbody>\n",
       "    <tr>\n",
       "      <th>75</th>\n",
       "      <td>B0J23Z29A0</td>\n",
       "      <td>啊莹小李车标便利店</td>\n",
       "      <td>113.254520</td>\n",
       "      <td>23.113277</td>\n",
       "      <td>越秀区</td>\n",
       "      <td>便民商店/便利店</td>\n",
       "      <td>便民商店/便利店</td>\n",
       "    </tr>\n",
       "    <tr>\n",
       "      <th>78</th>\n",
       "      <td>B0H6DS77CV</td>\n",
       "      <td>AG便利店(金天成印刷包装城店)</td>\n",
       "      <td>113.251626</td>\n",
       "      <td>23.059602</td>\n",
       "      <td>荔湾区</td>\n",
       "      <td>便民商店/便利店</td>\n",
       "      <td>便民商店/便利店</td>\n",
       "    </tr>\n",
       "    <tr>\n",
       "      <th>15311</th>\n",
       "      <td>B00141V4YB</td>\n",
       "      <td>华润万家便利超市(北瑜翠园店)</td>\n",
       "      <td>113.364408</td>\n",
       "      <td>23.211069</td>\n",
       "      <td>天河区</td>\n",
       "      <td>便民商店/便利店</td>\n",
       "      <td>便民商店/便利店</td>\n",
       "    </tr>\n",
       "    <tr>\n",
       "      <th>15317</th>\n",
       "      <td>B0HUY5T81E</td>\n",
       "      <td>乐百惠生活超市</td>\n",
       "      <td>113.365122</td>\n",
       "      <td>23.215073</td>\n",
       "      <td>天河区</td>\n",
       "      <td>超级市场</td>\n",
       "      <td>超市</td>\n",
       "    </tr>\n",
       "    <tr>\n",
       "      <th>15322</th>\n",
       "      <td>B0JRP1Y4ON</td>\n",
       "      <td>8836乐百惠便利店</td>\n",
       "      <td>113.365217</td>\n",
       "      <td>23.215076</td>\n",
       "      <td>天河区</td>\n",
       "      <td>便民商店/便利店</td>\n",
       "      <td>便民商店/便利店</td>\n",
       "    </tr>\n",
       "  </tbody>\n",
       "</table>\n",
       "</div>"
      ]
     },
     "execution_count": 13,
     "metadata": {},
     "output_type": "execute_result"
    }
   ],
   "execution_count": 13
  },
  {
   "metadata": {
    "ExecuteTime": {
     "end_time": "2024-12-11T13:07:48.144240Z",
     "start_time": "2024-12-11T13:07:48.121976Z"
    }
   },
   "cell_type": "code",
   "source": [
    "df_MALL = df_SHOPPING[df_SHOPPING['中类'] == '商场']\n",
    "df_MALL.info()"
   ],
   "id": "c72bb8802f64bfc6",
   "outputs": [
    {
     "name": "stdout",
     "output_type": "stream",
     "text": [
      "<class 'pandas.core.frame.DataFrame'>\n",
      "Index: 501 entries, 27310 to 260054\n",
      "Data columns (total 7 columns):\n",
      " #   Column   Non-Null Count  Dtype  \n",
      "---  ------   --------------  -----  \n",
      " 0   id       501 non-null    object \n",
      " 1   name     501 non-null    object \n",
      " 2   gcj02_x  501 non-null    float64\n",
      " 3   gcj02_y  501 non-null    float64\n",
      " 4   adname   501 non-null    object \n",
      " 5   中类       501 non-null    object \n",
      " 6   小类       501 non-null    object \n",
      "dtypes: float64(2), object(5)\n",
      "memory usage: 31.3+ KB\n"
     ]
    }
   ],
   "execution_count": 16
  },
  {
   "metadata": {
    "ExecuteTime": {
     "end_time": "2024-12-11T13:08:53.070479Z",
     "start_time": "2024-12-11T13:08:52.994422Z"
    }
   },
   "cell_type": "code",
   "source": [
    "df_MALL.to_csv('mall.csv', index=False)\n",
    "df_SHOPPING.to_csv('shopping.csv', index=False)"
   ],
   "id": "a6a7d96e3b8171b9",
   "outputs": [],
   "execution_count": 17
  },
  {
   "metadata": {
    "ExecuteTime": {
     "end_time": "2024-12-11T13:35:02.651276Z",
     "start_time": "2024-12-11T13:35:02.636557Z"
    }
   },
   "cell_type": "code",
   "source": [
    "# 因为poi数据的格式相仿 可以对其他poi数据快速进行基础清洗操作\n",
    "def clean_poi(dataframe):\n",
    "    dataframe = dataframe[dataframe['adname'].isin(['荔湾区', '越秀区', '天河区', '海珠区'])]\n",
    "    dataframe = dataframe.drop(['type', 'typecode', 'biztype','address', 'wgs84_x','wgs84_y','tel','pname','cityname','大类'], axis=1)\n",
    "    return dataframe"
   ],
   "id": "491ec3fd21f749d7",
   "outputs": [],
   "execution_count": 33
  },
  {
   "metadata": {
    "ExecuteTime": {
     "end_time": "2024-12-11T13:57:01.497107Z",
     "start_time": "2024-12-11T13:57:01.460728Z"
    }
   },
   "cell_type": "code",
   "source": [
    "df_transport = clean_poi(df_transport)\n",
    "df_park = clean_poi(df_park)\n",
    "df_education = clean_poi(df_education)\n",
    "df_health = clean_poi(df_health)"
   ],
   "id": "4e54873d16cae61e",
   "outputs": [],
   "execution_count": 52
  },
  {
   "metadata": {
    "ExecuteTime": {
     "end_time": "2024-12-11T13:35:06.047154Z",
     "start_time": "2024-12-11T13:35:06.026049Z"
    }
   },
   "cell_type": "code",
   "source": [
    "df_transport.info()\n",
    "df_park.info()\n",
    "df_education.info()\n",
    "df_health.info()"
   ],
   "id": "2f2aba55edaf4526",
   "outputs": [
    {
     "name": "stdout",
     "output_type": "stream",
     "text": [
      "<class 'pandas.core.frame.DataFrame'>\n",
      "Index: 23059 entries, 3 to 63640\n",
      "Data columns (total 7 columns):\n",
      " #   Column   Non-Null Count  Dtype  \n",
      "---  ------   --------------  -----  \n",
      " 0   id       23059 non-null  object \n",
      " 1   name     23059 non-null  object \n",
      " 2   gcj02_x  23059 non-null  float64\n",
      " 3   gcj02_y  23059 non-null  float64\n",
      " 4   adname   23059 non-null  object \n",
      " 5   中类       23059 non-null  object \n",
      " 6   小类       23059 non-null  object \n",
      "dtypes: float64(2), object(5)\n",
      "memory usage: 1.4+ MB\n",
      "<class 'pandas.core.frame.DataFrame'>\n",
      "Index: 2948 entries, 3 to 9596\n",
      "Data columns (total 7 columns):\n",
      " #   Column   Non-Null Count  Dtype  \n",
      "---  ------   --------------  -----  \n",
      " 0   id       2948 non-null   object \n",
      " 1   name     2948 non-null   object \n",
      " 2   gcj02_x  2948 non-null   float64\n",
      " 3   gcj02_y  2948 non-null   float64\n",
      " 4   adname   2948 non-null   object \n",
      " 5   中类       2948 non-null   object \n",
      " 6   小类       2948 non-null   object \n",
      "dtypes: float64(2), object(5)\n",
      "memory usage: 184.2+ KB\n",
      "<class 'pandas.core.frame.DataFrame'>\n",
      "Index: 12421 entries, 27 to 32934\n",
      "Data columns (total 7 columns):\n",
      " #   Column   Non-Null Count  Dtype  \n",
      "---  ------   --------------  -----  \n",
      " 0   id       12421 non-null  object \n",
      " 1   name     12421 non-null  object \n",
      " 2   gcj02_x  12421 non-null  float64\n",
      " 3   gcj02_y  12421 non-null  float64\n",
      " 4   adname   12421 non-null  object \n",
      " 5   中类       12421 non-null  object \n",
      " 6   小类       12421 non-null  object \n",
      "dtypes: float64(2), object(5)\n",
      "memory usage: 776.3+ KB\n",
      "<class 'pandas.core.frame.DataFrame'>\n",
      "Index: 10592 entries, 0 to 32331\n",
      "Data columns (total 7 columns):\n",
      " #   Column   Non-Null Count  Dtype  \n",
      "---  ------   --------------  -----  \n",
      " 0   id       10592 non-null  object \n",
      " 1   name     10592 non-null  object \n",
      " 2   gcj02_x  10592 non-null  float64\n",
      " 3   gcj02_y  10592 non-null  float64\n",
      " 4   adname   10592 non-null  object \n",
      " 5   中类       10592 non-null  object \n",
      " 6   小类       10592 non-null  object \n",
      "dtypes: float64(2), object(5)\n",
      "memory usage: 662.0+ KB\n"
     ]
    }
   ],
   "execution_count": 35
  },
  {
   "metadata": {
    "ExecuteTime": {
     "end_time": "2024-12-11T13:36:15.479630Z",
     "start_time": "2024-12-11T13:36:15.468593Z"
    }
   },
   "cell_type": "code",
   "source": [
    "# 提取公交站和地铁站数据\n",
    "df_transport['中类'].unique()"
   ],
   "id": "3d27bd58cc06932f",
   "outputs": [
    {
     "data": {
      "text/plain": [
       "array(['停车场', '交通服务相关', '火车站', '港口码头', '公交车站', '地铁站', '上下客区', '长途汽车站',\n",
       "       '轮渡站', '出租车'], dtype=object)"
      ]
     },
     "execution_count": 36,
     "metadata": {},
     "output_type": "execute_result"
    }
   ],
   "execution_count": 36
  },
  {
   "metadata": {
    "ExecuteTime": {
     "end_time": "2024-12-11T13:49:09.704571Z",
     "start_time": "2024-12-11T13:49:09.687339Z"
    }
   },
   "cell_type": "code",
   "source": [
    "bus_stop = df_transport[df_transport['中类'] == '公交车站']\n",
    "metro = df_transport[(df_transport['中类'] == '地铁站')&(df_transport['小类'] == '出入口')]\n",
    "bus_stop.to_csv('bus_stop.csv', index=False)\n",
    "metro.to_csv('metro.csv', index=False)"
   ],
   "id": "d6adfd1ab298b0a",
   "outputs": [],
   "execution_count": 38
  },
  {
   "metadata": {
    "ExecuteTime": {
     "end_time": "2024-12-11T13:57:06.511159Z",
     "start_time": "2024-12-11T13:57:06.502149Z"
    }
   },
   "cell_type": "code",
   "source": [
    "# 提取公园数据\n",
    "df_park['中类'].unique()"
   ],
   "id": "d7f37b5c413a6565",
   "outputs": [
    {
     "data": {
      "text/plain": [
       "array(['风景名胜', '公园广场', '风景名胜相关'], dtype=object)"
      ]
     },
     "execution_count": 53,
     "metadata": {},
     "output_type": "execute_result"
    }
   ],
   "execution_count": 53
  },
  {
   "metadata": {
    "ExecuteTime": {
     "end_time": "2024-12-11T13:59:19.181962Z",
     "start_time": "2024-12-11T13:59:19.173961Z"
    }
   },
   "cell_type": "code",
   "source": "df_park['小类'].unique()",
   "id": "e44f18191e3793c3",
   "outputs": [
    {
     "data": {
      "text/plain": [
       "array(['风景名胜', '水族馆', '城市广场', '公园', '旅游景点', '寺庙道观', '公园广场', '教堂', '纪念馆',\n",
       "       '植物园', '回教寺', '观景点', '红色景区', '国家级景点', '动物园', '海滩'], dtype=object)"
      ]
     },
     "execution_count": 57,
     "metadata": {},
     "output_type": "execute_result"
    }
   ],
   "execution_count": 57
  },
  {
   "metadata": {
    "ExecuteTime": {
     "end_time": "2024-12-11T13:59:45.540018Z",
     "start_time": "2024-12-11T13:59:45.527212Z"
    }
   },
   "cell_type": "code",
   "source": [
    "park = df_park[df_park['小类'].isin(['公园广场','公园'])]\n",
    "park.to_csv('park.csv', index=False)"
   ],
   "id": "b129b672933ff13e",
   "outputs": [],
   "execution_count": 59
  },
  {
   "metadata": {
    "ExecuteTime": {
     "end_time": "2024-12-11T14:11:33.072680Z",
     "start_time": "2024-12-11T14:11:33.059646Z"
    }
   },
   "cell_type": "code",
   "source": [
    "# 提取中小学数据\n",
    "df_education['中类'].unique()"
   ],
   "id": "9f7f66f22459ed08",
   "outputs": [
    {
     "data": {
      "text/plain": [
       "array(['培训机构', '展览馆', '科教文化场所', '学校', '传媒机构', '驾校', '科研机构', '文化宫', '美术馆',\n",
       "       '图书馆', '博物馆', '文艺团体', '科技馆', '会展中心', '档案馆', '天文馆'], dtype=object)"
      ]
     },
     "execution_count": 60,
     "metadata": {},
     "output_type": "execute_result"
    }
   ],
   "execution_count": 60
  },
  {
   "metadata": {
    "ExecuteTime": {
     "end_time": "2024-12-11T14:13:42.373339Z",
     "start_time": "2024-12-11T14:13:42.355303Z"
    }
   },
   "cell_type": "code",
   "source": "df_education['小类'].unique()",
   "id": "9978c95737c0106",
   "outputs": [
    {
     "data": {
      "text/plain": [
       "array(['培训机构', '展览馆', '科教文化场所', '职业技术学校', '传媒机构', '高等院校', '驾校', '幼儿园',\n",
       "       '成人教育', '学校', '科研机构', '文化宫', '美术馆', '图书馆', '博物馆', '中学', '小学',\n",
       "       '文艺团体', '电视台', '报社', '科技馆', '会展中心', '档案馆', '天文馆', '出版社', '学校内部设施',\n",
       "       '电台', '杂志社', '室内展位'], dtype=object)"
      ]
     },
     "execution_count": 61,
     "metadata": {},
     "output_type": "execute_result"
    }
   ],
   "execution_count": 61
  },
  {
   "metadata": {
    "ExecuteTime": {
     "end_time": "2024-12-11T14:20:21.396271Z",
     "start_time": "2024-12-11T14:20:21.375627Z"
    }
   },
   "cell_type": "code",
   "source": [
    "primary_school = df_education[df_education['小类'] == '小学']\n",
    "middle_school = df_education[df_education['小类'] == '中学']\n",
    "primary_school.to_csv('primary_school.csv', index=False)\n",
    "middle_school.to_csv('middle_school.csv', index=False)"
   ],
   "id": "1a4c25636d63f84e",
   "outputs": [],
   "execution_count": 64
  },
  {
   "metadata": {
    "ExecuteTime": {
     "end_time": "2024-12-11T14:22:25.309419Z",
     "start_time": "2024-12-11T14:22:25.290076Z"
    }
   },
   "cell_type": "code",
   "source": [
    "# 提取医院数据\n",
    "df_health['中类'].unique()"
   ],
   "id": "cda38dcfb76e3bbd",
   "outputs": [
    {
     "data": {
      "text/plain": [
       "array(['医疗保健服务场所', '医药保健销售店', '诊所', '专科医院', '综合医院', '动物医疗场所', '核酸检测',\n",
       "       '疾病预防机构', '急救中心'], dtype=object)"
      ]
     },
     "execution_count": 66,
     "metadata": {},
     "output_type": "execute_result"
    }
   ],
   "execution_count": 66
  },
  {
   "metadata": {
    "ExecuteTime": {
     "end_time": "2024-12-11T14:22:59.600569Z",
     "start_time": "2024-12-11T14:22:59.592934Z"
    }
   },
   "cell_type": "code",
   "source": "df_health['小类'].unique()",
   "id": "3d9f691bf9f347e",
   "outputs": [
    {
     "data": {
      "text/plain": [
       "array(['医疗保健服务场所', '医疗保健用品', '诊所', '整形美容', '综合医院', '口腔医院', '药房', '卫生院',\n",
       "       '妇科医院', '宠物诊所', '核酸检测', '专科医院', '肿瘤医院', '兽医站', '精神病医院', '胸科医院',\n",
       "       '骨科医院', '动物医疗场所', '三级甲等医院', '医药保健相关', '耳鼻喉医院', '疾病预防', '眼科医院',\n",
       "       '脑科医院', '传染病医院', '急救中心'], dtype=object)"
      ]
     },
     "execution_count": 67,
     "metadata": {},
     "output_type": "execute_result"
    }
   ],
   "execution_count": 67
  },
  {
   "metadata": {
    "ExecuteTime": {
     "end_time": "2024-12-11T14:25:50.829006Z",
     "start_time": "2024-12-11T14:25:50.818009Z"
    }
   },
   "cell_type": "code",
   "source": [
    "hospital = df_health[df_health['小类'] == '三级甲等医院']\n",
    "hospital.to_csv('hospital.csv', index=False)"
   ],
   "id": "50e9c2a2a2c27079",
   "outputs": [],
   "execution_count": 69
  }
 ],
 "metadata": {
  "kernelspec": {
   "display_name": "Python 3",
   "language": "python",
   "name": "python3"
  },
  "language_info": {
   "codemirror_mode": {
    "name": "ipython",
    "version": 2
   },
   "file_extension": ".py",
   "mimetype": "text/x-python",
   "name": "python",
   "nbconvert_exporter": "python",
   "pygments_lexer": "ipython2",
   "version": "2.7.6"
  }
 },
 "nbformat": 4,
 "nbformat_minor": 5
}
