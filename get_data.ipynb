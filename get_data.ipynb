{
 "cells": [
  {
   "cell_type": "code",
   "id": "initial_id",
   "metadata": {
    "collapsed": true,
    "ExecuteTime": {
     "end_time": "2024-12-14T15:10:03.333020Z",
     "start_time": "2024-12-14T15:10:02.524777Z"
    }
   },
   "source": "import pandas as pd",
   "outputs": [],
   "execution_count": 1
  },
  {
   "metadata": {
    "ExecuteTime": {
     "end_time": "2024-12-14T15:10:11.042018Z",
     "start_time": "2024-12-14T15:10:11.002743Z"
    }
   },
   "cell_type": "code",
   "source": [
    "# 从数据集中提取需要的数据并赋予研究用的变量名\n",
    "data = pd.read_csv('communities_with_distance_river_area.csv')\n",
    "data.columns"
   ],
   "id": "845fefee34d18272",
   "outputs": [
    {
     "data": {
      "text/plain": [
       "Index(['小区名字', '小区地址', '均价', '容积率', '有无停车位', '物业费_元/平方米/月', '绿化率_percent',\n",
       "       'latitude', 'longitude', 'BUS', 'HOS', 'MAR', 'SUB', 'PSC', 'MSC',\n",
       "       'PAR', 'CBD', 'SCBD', 'RIV', 'ARE'],\n",
       "      dtype='object')"
      ]
     },
     "execution_count": 2,
     "metadata": {},
     "output_type": "execute_result"
    }
   ],
   "execution_count": 2
  },
  {
   "metadata": {
    "ExecuteTime": {
     "end_time": "2024-12-14T15:10:12.179949Z",
     "start_time": "2024-12-14T15:10:12.153332Z"
    }
   },
   "cell_type": "code",
   "source": [
    "data = data[['均价', '容积率', '物业费_元/平方米/月', '绿化率_percent',\n",
    "       'BUS', 'HOS', 'MAR', 'SUB', 'PSC', 'MSC',\n",
    "       'PAR', 'CBD', 'SCBD', 'RIV', 'ARE','latitude', 'longitude']]\n",
    "data.columns = ['PRI', 'FAR', 'PRO', 'GRE',\n",
    "       'BUS', 'HOS', 'MAR', 'SUB', 'PSC', 'MSC',\n",
    "       'PAR', 'CBD', 'SCBD', 'RIV', 'ARE','latitude', 'longitude']\n",
    "data.head()"
   ],
   "id": "5f63c866dafd1a4d",
   "outputs": [
    {
     "data": {
      "text/plain": [
       "     PRI   FAR   PRO   GRE         BUS          HOS         MAR          SUB  \\\n",
       "0  54560  2.88  1.20  30.0  256.509826  1535.484711  175.643977  1196.714612   \n",
       "1  70093  3.80  3.50  62.0  256.509826  1535.484711  175.643977  1196.714612   \n",
       "2  45544  1.74  2.37  40.0  152.513554  2100.395942  451.259944  1207.328398   \n",
       "3  58641  2.66  1.90  45.2   23.832257  5297.997351  346.016106   713.996616   \n",
       "4  84828  3.99  2.30  42.0  219.307358   265.723923  300.167413  1482.307992   \n",
       "\n",
       "          PSC          MSC          PAR          CBD         SCBD  \\\n",
       "0  417.639070   856.055562   161.120353  9319.496930  7467.040911   \n",
       "1  417.639070   856.055562   161.120353  9319.496930  7467.040911   \n",
       "2  388.567987   383.483784   703.540475  9796.623781  8166.680740   \n",
       "3  423.282983   382.525096   362.763426  9674.438398  9123.633151   \n",
       "4  433.038452  1132.855629  1241.665762  4742.191821  4540.610699   \n",
       "\n",
       "           RIV     ARE   latitude   longitude  \n",
       "0  2068.596693  333600  23.124325  113.415697  \n",
       "1  2068.596693  333600  23.124325  113.415697  \n",
       "2  3059.158674   69400  23.132456  113.419568  \n",
       "3  9463.923434  356900  23.196825  113.369955  \n",
       "4  3082.062562  210700  23.139163  113.366326  "
      ],
      "text/html": [
       "<div>\n",
       "<style scoped>\n",
       "    .dataframe tbody tr th:only-of-type {\n",
       "        vertical-align: middle;\n",
       "    }\n",
       "\n",
       "    .dataframe tbody tr th {\n",
       "        vertical-align: top;\n",
       "    }\n",
       "\n",
       "    .dataframe thead th {\n",
       "        text-align: right;\n",
       "    }\n",
       "</style>\n",
       "<table border=\"1\" class=\"dataframe\">\n",
       "  <thead>\n",
       "    <tr style=\"text-align: right;\">\n",
       "      <th></th>\n",
       "      <th>PRI</th>\n",
       "      <th>FAR</th>\n",
       "      <th>PRO</th>\n",
       "      <th>GRE</th>\n",
       "      <th>BUS</th>\n",
       "      <th>HOS</th>\n",
       "      <th>MAR</th>\n",
       "      <th>SUB</th>\n",
       "      <th>PSC</th>\n",
       "      <th>MSC</th>\n",
       "      <th>PAR</th>\n",
       "      <th>CBD</th>\n",
       "      <th>SCBD</th>\n",
       "      <th>RIV</th>\n",
       "      <th>ARE</th>\n",
       "      <th>latitude</th>\n",
       "      <th>longitude</th>\n",
       "    </tr>\n",
       "  </thead>\n",
       "  <tbody>\n",
       "    <tr>\n",
       "      <th>0</th>\n",
       "      <td>54560</td>\n",
       "      <td>2.88</td>\n",
       "      <td>1.20</td>\n",
       "      <td>30.0</td>\n",
       "      <td>256.509826</td>\n",
       "      <td>1535.484711</td>\n",
       "      <td>175.643977</td>\n",
       "      <td>1196.714612</td>\n",
       "      <td>417.639070</td>\n",
       "      <td>856.055562</td>\n",
       "      <td>161.120353</td>\n",
       "      <td>9319.496930</td>\n",
       "      <td>7467.040911</td>\n",
       "      <td>2068.596693</td>\n",
       "      <td>333600</td>\n",
       "      <td>23.124325</td>\n",
       "      <td>113.415697</td>\n",
       "    </tr>\n",
       "    <tr>\n",
       "      <th>1</th>\n",
       "      <td>70093</td>\n",
       "      <td>3.80</td>\n",
       "      <td>3.50</td>\n",
       "      <td>62.0</td>\n",
       "      <td>256.509826</td>\n",
       "      <td>1535.484711</td>\n",
       "      <td>175.643977</td>\n",
       "      <td>1196.714612</td>\n",
       "      <td>417.639070</td>\n",
       "      <td>856.055562</td>\n",
       "      <td>161.120353</td>\n",
       "      <td>9319.496930</td>\n",
       "      <td>7467.040911</td>\n",
       "      <td>2068.596693</td>\n",
       "      <td>333600</td>\n",
       "      <td>23.124325</td>\n",
       "      <td>113.415697</td>\n",
       "    </tr>\n",
       "    <tr>\n",
       "      <th>2</th>\n",
       "      <td>45544</td>\n",
       "      <td>1.74</td>\n",
       "      <td>2.37</td>\n",
       "      <td>40.0</td>\n",
       "      <td>152.513554</td>\n",
       "      <td>2100.395942</td>\n",
       "      <td>451.259944</td>\n",
       "      <td>1207.328398</td>\n",
       "      <td>388.567987</td>\n",
       "      <td>383.483784</td>\n",
       "      <td>703.540475</td>\n",
       "      <td>9796.623781</td>\n",
       "      <td>8166.680740</td>\n",
       "      <td>3059.158674</td>\n",
       "      <td>69400</td>\n",
       "      <td>23.132456</td>\n",
       "      <td>113.419568</td>\n",
       "    </tr>\n",
       "    <tr>\n",
       "      <th>3</th>\n",
       "      <td>58641</td>\n",
       "      <td>2.66</td>\n",
       "      <td>1.90</td>\n",
       "      <td>45.2</td>\n",
       "      <td>23.832257</td>\n",
       "      <td>5297.997351</td>\n",
       "      <td>346.016106</td>\n",
       "      <td>713.996616</td>\n",
       "      <td>423.282983</td>\n",
       "      <td>382.525096</td>\n",
       "      <td>362.763426</td>\n",
       "      <td>9674.438398</td>\n",
       "      <td>9123.633151</td>\n",
       "      <td>9463.923434</td>\n",
       "      <td>356900</td>\n",
       "      <td>23.196825</td>\n",
       "      <td>113.369955</td>\n",
       "    </tr>\n",
       "    <tr>\n",
       "      <th>4</th>\n",
       "      <td>84828</td>\n",
       "      <td>3.99</td>\n",
       "      <td>2.30</td>\n",
       "      <td>42.0</td>\n",
       "      <td>219.307358</td>\n",
       "      <td>265.723923</td>\n",
       "      <td>300.167413</td>\n",
       "      <td>1482.307992</td>\n",
       "      <td>433.038452</td>\n",
       "      <td>1132.855629</td>\n",
       "      <td>1241.665762</td>\n",
       "      <td>4742.191821</td>\n",
       "      <td>4540.610699</td>\n",
       "      <td>3082.062562</td>\n",
       "      <td>210700</td>\n",
       "      <td>23.139163</td>\n",
       "      <td>113.366326</td>\n",
       "    </tr>\n",
       "  </tbody>\n",
       "</table>\n",
       "</div>"
      ]
     },
     "execution_count": 3,
     "metadata": {},
     "output_type": "execute_result"
    }
   ],
   "execution_count": 3
  },
  {
   "metadata": {
    "ExecuteTime": {
     "end_time": "2024-12-14T15:10:18.747158Z",
     "start_time": "2024-12-14T15:10:18.716087Z"
    }
   },
   "cell_type": "code",
   "source": "data.info()",
   "id": "fa83472803ddfdf7",
   "outputs": [
    {
     "name": "stdout",
     "output_type": "stream",
     "text": [
      "<class 'pandas.core.frame.DataFrame'>\n",
      "RangeIndex: 2282 entries, 0 to 2281\n",
      "Data columns (total 17 columns):\n",
      " #   Column     Non-Null Count  Dtype  \n",
      "---  ------     --------------  -----  \n",
      " 0   PRI        2282 non-null   int64  \n",
      " 1   FAR        2282 non-null   float64\n",
      " 2   PRO        2282 non-null   float64\n",
      " 3   GRE        2282 non-null   float64\n",
      " 4   BUS        2282 non-null   float64\n",
      " 5   HOS        2282 non-null   float64\n",
      " 6   MAR        2282 non-null   float64\n",
      " 7   SUB        2282 non-null   float64\n",
      " 8   PSC        2282 non-null   float64\n",
      " 9   MSC        2282 non-null   float64\n",
      " 10  PAR        2282 non-null   float64\n",
      " 11  CBD        2282 non-null   float64\n",
      " 12  SCBD       2282 non-null   float64\n",
      " 13  RIV        2282 non-null   float64\n",
      " 14  ARE        2282 non-null   int64  \n",
      " 15  latitude   2282 non-null   float64\n",
      " 16  longitude  2282 non-null   float64\n",
      "dtypes: float64(15), int64(2)\n",
      "memory usage: 303.2 KB\n"
     ]
    }
   ],
   "execution_count": 4
  },
  {
   "metadata": {
    "ExecuteTime": {
     "end_time": "2024-12-14T15:10:21.184613Z",
     "start_time": "2024-12-14T15:10:21.139707Z"
    }
   },
   "cell_type": "code",
   "source": "data.to_csv('data.csv', index=False)",
   "id": "4fd53d36b6731764",
   "outputs": [],
   "execution_count": 5
  }
 ],
 "metadata": {
  "kernelspec": {
   "display_name": "Python 3",
   "language": "python",
   "name": "python3"
  },
  "language_info": {
   "codemirror_mode": {
    "name": "ipython",
    "version": 2
   },
   "file_extension": ".py",
   "mimetype": "text/x-python",
   "name": "python",
   "nbconvert_exporter": "python",
   "pygments_lexer": "ipython2",
   "version": "2.7.6"
  }
 },
 "nbformat": 4,
 "nbformat_minor": 5
}
